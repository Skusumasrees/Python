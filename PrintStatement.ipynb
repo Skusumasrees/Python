{
 "cells": [
  {
   "cell_type": "code",
   "execution_count": 1,
   "id": "c4844c4a-e403-471b-a2b4-ac48909e2cc2",
   "metadata": {},
   "outputs": [
    {
     "name": "stdout",
     "output_type": "stream",
     "text": [
      "Print Function\n",
      "34\n"
     ]
    }
   ],
   "source": [
    "#Print Statement\n",
    "# print() statement is used to display output to the console.\n",
    "#It can print strings, numbers, variables, expressions, etc.\n",
    "#Automatically adds a newline (\\n) at the end (can be changed with end parameter).\n",
    "#Printing Strings and Numbers\n",
    "print(\"Print Function\")\n",
    "print(34)"
   ]
  },
  {
   "cell_type": "code",
   "execution_count": 3,
   "id": "f9347388-7e33-4463-9c94-e7bf8cf6a439",
   "metadata": {},
   "outputs": [
    {
     "name": "stdout",
     "output_type": "stream",
     "text": [
      "Name: Siri \n",
      "Age: 22\n"
     ]
    }
   ],
   "source": [
    "#Printing Multiple Items\n",
    "name = \"Siri\"\n",
    "age = 22\n",
    "print(\"Name:\", name, \"\\nAge:\", age) #\\n is used to display in new line."
   ]
  },
  {
   "cell_type": "code",
   "execution_count": 6,
   "id": "aae43615-5195-4f23-839f-6bcb38944d23",
   "metadata": {},
   "outputs": [
    {
     "name": "stdout",
     "output_type": "stream",
     "text": [
      "2025-08-05\n",
      "Hello World\n",
      "Loading... Done\n"
     ]
    }
   ],
   "source": [
    "#Using sep and end\n",
    "print(\"2025\", \"08\", \"05\", sep=\"-\")   # 2025-08-05\n",
    "print(\"Hello\", end=\" \")              # no newline\n",
    "print(\"World\")\n",
    "print(\"Loading\", end=\"...\")\n",
    "print(\" Done\")"
   ]
  },
  {
   "cell_type": "code",
   "execution_count": 5,
   "id": "ef9524d1-4d21-4d5d-b89f-523b4cd55457",
   "metadata": {},
   "outputs": [
    {
     "name": "stdout",
     "output_type": "stream",
     "text": [
      "15\n"
     ]
    }
   ],
   "source": [
    "#Printing Expressions\n",
    "print(10 + 5)       "
   ]
  },
  {
   "cell_type": "code",
   "execution_count": 7,
   "id": "9d8714c1-cf99-4839-8350-8a411106024e",
   "metadata": {},
   "outputs": [
    {
     "data": {
      "text/plain": [
       "20"
      ]
     },
     "execution_count": 7,
     "metadata": {},
     "output_type": "execute_result"
    }
   ],
   "source": [
    "#print is used to display result\n",
    "a=10\n",
    "b=20\n",
    "a\n",
    "b"
   ]
  },
  {
   "cell_type": "code",
   "execution_count": 18,
   "id": "6940c383-5192-4750-badc-d256683ed763",
   "metadata": {},
   "outputs": [
    {
     "name": "stdout",
     "output_type": "stream",
     "text": [
      "10\n",
      "20\n",
      "Sum of 10 and 20 is: 30\n",
      "sum of 10 and 20 is: 30\n"
     ]
    }
   ],
   "source": [
    "a=10\n",
    "b=20\n",
    "print(a)\n",
    "print(b)\n",
    "add = a + b\n",
    "print(\"Sum of\",a,\"and\",b,\"is:\",add) \n",
    "print(\"sum of {} and {} is: {}\".format(a, b, add))#print Format Method"
   ]
  },
  {
   "cell_type": "raw",
   "id": "75b9f4dc-8774-4465-a923-042e20d3d3f3",
   "metadata": {},
   "source": [
    "More short format meythod(f string method)\n",
    "->variable should be in curly braces\n",
    "->and write everything inside quots ''\n",
    "->at starting simpaly add f"
   ]
  },
  {
   "cell_type": "code",
   "execution_count": 19,
   "id": "8cd62e7d-5f9b-4748-92da-c7a1cccbca75",
   "metadata": {},
   "outputs": [
    {
     "name": "stdout",
     "output_type": "stream",
     "text": [
      "The addition of 20 and 30 is= 50\n"
     ]
    }
   ],
   "source": [
    "num1=20\n",
    "num2=30\n",
    "add=num1+num2\n",
    "print(f'The addition of {num1} and {num2} is= {add}') "
   ]
  },
  {
   "cell_type": "code",
   "execution_count": 21,
   "id": "cb075d39-45c8-4792-a436-240c03ed08c3",
   "metadata": {},
   "outputs": [
    {
     "name": "stdout",
     "output_type": "stream",
     "text": [
      "The avrage of 100, 25 and 333 is = 152.67\n"
     ]
    }
   ],
   "source": [
    "num1=100\n",
    "num2=25\n",
    "num3=333\n",
    "avg=round((num1+num2+num3)/3,2) # or we can use avg=round(num1+num2+num3)/3,2)\n",
    "# The avrage of num1,num2,num3 is = avg\n",
    "print(f'The avrage of {num1}, {num2} and {num3} is = {avg}')"
   ]
  },
  {
   "cell_type": "code",
   "execution_count": null,
   "id": "983cbb6c-8a11-4007-879e-959ea077a45e",
   "metadata": {},
   "outputs": [],
   "source": []
  }
 ],
 "metadata": {
  "kernelspec": {
   "display_name": "Python 3 (ipykernel)",
   "language": "python",
   "name": "python3"
  },
  "language_info": {
   "codemirror_mode": {
    "name": "ipython",
    "version": 3
   },
   "file_extension": ".py",
   "mimetype": "text/x-python",
   "name": "python",
   "nbconvert_exporter": "python",
   "pygments_lexer": "ipython3",
   "version": "3.13.5"
  }
 },
 "nbformat": 4,
 "nbformat_minor": 5
}
