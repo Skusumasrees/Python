{
 "cells": [
  {
   "cell_type": "raw",
   "id": "0f42a736-1094-4ed7-a643-36feb1aa29a2",
   "metadata": {},
   "source": [
    "Variables \n",
    "->A Variable is a name that refers to a memory location where a value is stored.\n",
    "->Variable is a container for data.\n",
    "->Variable in python is Dymanic Typing(no need to declare),No Expicit Declaration(directly assign the value),Mutable(Changable)"
   ]
  },
  {
   "cell_type": "code",
   "execution_count": 7,
   "id": "09772e4d-5899-4ec3-aabe-cf0efaa6be52",
   "metadata": {},
   "outputs": [
    {
     "data": {
      "text/plain": [
       "1"
      ]
     },
     "execution_count": 7,
     "metadata": {},
     "output_type": "execute_result"
    }
   ],
   "source": [
    "#Variable Assignment(var_name = value)\n",
    "num = 1\n",
    "num"
   ]
  },
  {
   "cell_type": "raw",
   "id": "c34c8185-6ae7-4684-ad52-0d547f24c1b9",
   "metadata": {},
   "source": [
    "Rules to Define Variable in Python\n",
    "->Must start with a letter(a-z, A-Z) or an underscore(_).\n",
    "->Can contain letters,degits(0-9), and underscores, But cannot start with a digit.\n",
    "->Case-Sensitive:age,Age, and Age are differnt variables.\n",
    "->Cannot be a Python Keyword"
   ]
  },
  {
   "cell_type": "code",
   "execution_count": 9,
   "id": "309d4568-a52a-43f5-99fe-3865d97510ff",
   "metadata": {},
   "outputs": [
    {
     "name": "stdout",
     "output_type": "stream",
     "text": [
      "25\n",
      "Siri\n",
      "19.99\n",
      "True\n"
     ]
    }
   ],
   "source": [
    "#Storing and Printing a Value\n",
    "#Integer Variable\n",
    "age = 25\n",
    "print(age)#\n",
    "#String Variable\n",
    "name = \"Siri\"\n",
    "print(name)\n",
    "#Float Variable\n",
    "price = 19.99\n",
    "print(price)\n",
    "#Boolean Variable\n",
    "is_active = True\n",
    "print(is_active)"
   ]
  },
  {
   "cell_type": "code",
   "execution_count": 11,
   "id": "340feac3-dbf4-4264-8f08-5bcc91c3ece5",
   "metadata": {},
   "outputs": [
    {
     "name": "stdout",
     "output_type": "stream",
     "text": [
      "7\n"
     ]
    }
   ],
   "source": [
    "#Using Variable in Expressions\n",
    "#Assigning values to variables\n",
    "a = 3\n",
    "b = 4\n",
    "#Adding two variables and storing the result in result\n",
    "result = a+b\n",
    "#Printing the result\n",
    "print(result)"
   ]
  },
  {
   "cell_type": "code",
   "execution_count": 13,
   "id": "411c4f84-52f2-4c07-aa5f-4dada93f69ad",
   "metadata": {},
   "outputs": [
    {
     "name": "stdout",
     "output_type": "stream",
     "text": [
      "Intitial Value:  50\n",
      "Second Value:  100\n"
     ]
    }
   ],
   "source": [
    "#Changing the Values of a Variable\n",
    "#Initial value\n",
    "score = 50\n",
    "print(\"Intitial Value: \",score)\n",
    "#Changing the value of 'score'\n",
    "score=100\n",
    "print(\"Second Value: \",score)"
   ]
  },
  {
   "cell_type": "code",
   "execution_count": 1,
   "id": "d0aa941c-d311-4870-abfe-1c516d7d940e",
   "metadata": {},
   "outputs": [
    {
     "name": "stdout",
     "output_type": "stream",
     "text": [
      "Harry Potter\n"
     ]
    }
   ],
   "source": [
    "#Concatenating String\n",
    "##Assigning values to variables\n",
    "first_name = \"Harry\"\n",
    "last_name = \"Potter\"\n",
    "\n",
    "#Concatenating string and storing in a new variable\n",
    "full_name = first_name + \" \"+ last_name\n",
    "print(full_name)"
   ]
  },
  {
   "cell_type": "code",
   "execution_count": 2,
   "id": "a88f2229-e387-4a54-a0dc-eda6a85c094e",
   "metadata": {},
   "outputs": [
    {
     "name": "stdout",
     "output_type": "stream",
     "text": [
      "50\n"
     ]
    }
   ],
   "source": [
    "#Using Variables in a calculation\n",
    "##Assigning values to variables\n",
    "length = 10\n",
    "width = 5\n",
    "\n",
    "#Calculating the area of a rectangle\n",
    "area = length * width\n",
    "print(area)"
   ]
  },
  {
   "cell_type": "code",
   "execution_count": 3,
   "id": "ae29e369-8979-4189-938c-292fc10eb95c",
   "metadata": {},
   "outputs": [
    {
     "name": "stdout",
     "output_type": "stream",
     "text": [
      "10\n",
      "20\n"
     ]
    }
   ],
   "source": [
    "#Assigning Values to same variable\n",
    "x = 10\n",
    "print(x)\n",
    "x = 20\n",
    "print(x)"
   ]
  },
  {
   "cell_type": "code",
   "execution_count": 11,
   "id": "e0eeaf34-7348-43ca-ad49-0f1412b8d383",
   "metadata": {},
   "outputs": [],
   "source": [
    "# Variables in Python\n",
    "\n",
    "first_name = 'Harry'\n",
    "last_name = 'Potter'\n",
    "school = 'Hogwarts'\n",
    "city = 'Scotland'#String\n",
    "country = 'UK'\n",
    "age = 19 #Integer\n",
    "is_married = True #Boolen\n",
    "skills = ['HTML', 'CSS', 'JS', 'React', 'Python'] #List\n",
    "person_info = {\n",
    "    'firstname':'Siri', \n",
    "    'lastname':'Sidigonde', \n",
    "    'country':'India',\n",
    "    'city':'Ananthapur'\n",
    "    } #Dictionary"
   ]
  },
  {
   "cell_type": "code",
   "execution_count": 12,
   "id": "6ca0aff7-27b1-4b00-8326-8190cae6e3b9",
   "metadata": {},
   "outputs": [
    {
     "name": "stdout",
     "output_type": "stream",
     "text": [
      "First name: Harry\n",
      "First name length: 5\n",
      "Last name:  Potter\n",
      "Last name length:  6\n",
      "Country:  UK\n",
      "City:  Scotland\n",
      "Age:  19\n",
      "Married:  True\n",
      "Skills:  ['HTML', 'CSS', 'JS', 'React', 'Python']\n",
      "Person information:  {'firstname': 'Siri', 'lastname': 'Sidigonde', 'country': 'India', 'city': 'Ananthapur'}\n"
     ]
    }
   ],
   "source": [
    "# Printing the values stored in the variables\n",
    "\n",
    "print('First name:', first_name)\n",
    "print('First name length:', len(first_name))\n",
    "print('Last name: ', last_name)\n",
    "print('Last name length: ', len(last_name))\n",
    "print('Country: ', country)\n",
    "print('City: ', city)\n",
    "print('Age: ', age)\n",
    "print('Married: ', is_married)\n",
    "print('Skills: ', skills)\n",
    "print('Person information: ', person_info)"
   ]
  },
  {
   "cell_type": "code",
   "execution_count": 13,
   "id": "cfa40cba-4a62-436b-b93e-22e3586bb7ca",
   "metadata": {},
   "outputs": [
    {
     "name": "stdout",
     "output_type": "stream",
     "text": [
      "Lily Potter UK 40 True\n",
      "First name: Lily\n",
      "Last name:  Potter\n",
      "Country:  UK\n",
      "Age:  40\n",
      "Married:  True\n"
     ]
    }
   ],
   "source": [
    "# Declaring multiple variables in one line\n",
    "\n",
    "first_name, last_name, country, age, is_married = 'Lily', 'Potter', 'UK', 40, True\n",
    "\n",
    "print(first_name, last_name, country, age, is_married)\n",
    "print('First name:', first_name)\n",
    "print('Last name: ', last_name)\n",
    "print('Country: ', country)\n",
    "print('Age: ', age)\n",
    "print('Married: ', is_married)"
   ]
  },
  {
   "cell_type": "code",
   "execution_count": null,
   "id": "d7d6a502-756c-4d25-8360-dddd901ddb78",
   "metadata": {},
   "outputs": [],
   "source": []
  }
 ],
 "metadata": {
  "kernelspec": {
   "display_name": "Python 3 (ipykernel)",
   "language": "python",
   "name": "python3"
  },
  "language_info": {
   "codemirror_mode": {
    "name": "ipython",
    "version": 3
   },
   "file_extension": ".py",
   "mimetype": "text/x-python",
   "name": "python",
   "nbconvert_exporter": "python",
   "pygments_lexer": "ipython3",
   "version": "3.13.5"
  }
 },
 "nbformat": 4,
 "nbformat_minor": 5
}
