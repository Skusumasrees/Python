{
 "cells": [
  {
   "cell_type": "markdown",
   "id": "215dd020-1b0e-4862-9f1b-a2d92308322a",
   "metadata": {},
   "source": [
    "<b>Dictionary</b><br>\n",
    "->Dictionary is a Key - Value data structure.<br>\n",
    "->It stores pairs(key : value).<br>\n",
    "->Keys must me unique and immutable(string, number, tuple).<br>\n",
    "->Values can be of any type."
   ]
  },
  {
   "cell_type": "code",
   "execution_count": 1,
   "id": "0b149dac-1f9d-4b2f-ad2e-b3f9f4d0af1a",
   "metadata": {},
   "outputs": [
    {
     "name": "stdout",
     "output_type": "stream",
     "text": [
      "{}\n"
     ]
    }
   ],
   "source": [
    "#Empty Dictionary\n",
    "d = {}\n",
    "print(d)"
   ]
  },
  {
   "cell_type": "code",
   "execution_count": 2,
   "id": "c84be463-7497-4fab-b114-87dcaad133ce",
   "metadata": {},
   "outputs": [
    {
     "name": "stdout",
     "output_type": "stream",
     "text": [
      "{100: 'hi', 'hi': 100, (200+10j): 'amx', (250, 350): (7, 'hi')}\n"
     ]
    }
   ],
   "source": [
    "d[100] = 'hi'\n",
    "d['hi'] = 100\n",
    "d[200 + 10j] = 'amx'\n",
    "d[250, 350] = 7, 'hi'\n",
    "print(d)"
   ]
  },
  {
   "cell_type": "code",
   "execution_count": 3,
   "id": "3a5c5279-caf8-4485-ba96-fd3e45bec9d7",
   "metadata": {},
   "outputs": [
    {
     "data": {
      "text/plain": [
       "dict"
      ]
     },
     "execution_count": 3,
     "metadata": {},
     "output_type": "execute_result"
    }
   ],
   "source": [
    "type(d)"
   ]
  },
  {
   "cell_type": "code",
   "execution_count": 4,
   "id": "2ce7f9da-19cb-4133-a8be-b07094b61ed4",
   "metadata": {},
   "outputs": [
    {
     "data": {
      "text/plain": [
       "4"
      ]
     },
     "execution_count": 4,
     "metadata": {},
     "output_type": "execute_result"
    }
   ],
   "source": [
    "len(d)"
   ]
  },
  {
   "cell_type": "code",
   "execution_count": 5,
   "id": "12a32ee9-0a1c-4d89-94ee-bad429c5a08d",
   "metadata": {},
   "outputs": [
    {
     "name": "stdout",
     "output_type": "stream",
     "text": [
      "{1: 'One', 2: 'Two', 3: 'Three'}\n"
     ]
    }
   ],
   "source": [
    "d1 = {1:\"One\", 2:\"Two\", 3:\"Three\"}\n",
    "print(d1)"
   ]
  },
  {
   "cell_type": "code",
   "execution_count": 6,
   "id": "32442cc0-ee39-4452-91cd-d2465cacb245",
   "metadata": {},
   "outputs": [
    {
     "name": "stdout",
     "output_type": "stream",
     "text": [
      "dict_keys([1, 2, 3])\n"
     ]
    }
   ],
   "source": [
    "print(d1.keys()) #key() - To display keys of existing dictionary "
   ]
  },
  {
   "cell_type": "code",
   "execution_count": 7,
   "id": "69aa7738-e940-4745-866a-0eba5098ae03",
   "metadata": {},
   "outputs": [
    {
     "name": "stdout",
     "output_type": "stream",
     "text": [
      "dict_values(['One', 'Two', 'Three'])\n"
     ]
    }
   ],
   "source": [
    "print(d1.values()) #values() - To display values of existing dictionary"
   ]
  },
  {
   "cell_type": "code",
   "execution_count": 8,
   "id": "1de47c2b-a651-4f16-a370-35d75a5ac874",
   "metadata": {},
   "outputs": [
    {
     "data": {
      "text/plain": [
       "dict_items([(1, 'One'), (2, 'Two'), (3, 'Three')])"
      ]
     },
     "execution_count": 8,
     "metadata": {},
     "output_type": "execute_result"
    }
   ],
   "source": [
    "d1.items() #items() - to display key-value pairs of existing dictionary."
   ]
  },
  {
   "cell_type": "markdown",
   "id": "509383ca-5db0-4ba1-bd6a-ae6eb653022d",
   "metadata": {},
   "source": [
    "Accessing Elements"
   ]
  },
  {
   "cell_type": "code",
   "execution_count": 9,
   "id": "98843056-e765-489d-993d-ed5a050b6ed0",
   "metadata": {},
   "outputs": [
    {
     "name": "stdout",
     "output_type": "stream",
     "text": [
      "One\n"
     ]
    }
   ],
   "source": [
    "print(d1[1]) #we can access elements only using Keys. "
   ]
  },
  {
   "cell_type": "code",
   "execution_count": 10,
   "id": "83590a71-93cb-4ac0-b349-77973409ff8b",
   "metadata": {},
   "outputs": [
    {
     "ename": "KeyError",
     "evalue": "'One'",
     "output_type": "error",
     "traceback": [
      "\u001b[31m---------------------------------------------------------------------------\u001b[39m",
      "\u001b[31mKeyError\u001b[39m                                  Traceback (most recent call last)",
      "\u001b[36mCell\u001b[39m\u001b[36m \u001b[39m\u001b[32mIn[10]\u001b[39m\u001b[32m, line 1\u001b[39m\n\u001b[32m----> \u001b[39m\u001b[32m1\u001b[39m \u001b[38;5;28mprint\u001b[39m(\u001b[43md1\u001b[49m\u001b[43m[\u001b[49m\u001b[33;43m\"\u001b[39;49m\u001b[33;43mOne\u001b[39;49m\u001b[33;43m\"\u001b[39;49m\u001b[43m]\u001b[49m)\n",
      "\u001b[31mKeyError\u001b[39m: 'One'"
     ]
    }
   ],
   "source": [
    "print(d1[\"One\"])"
   ]
  },
  {
   "cell_type": "code",
   "execution_count": 11,
   "id": "d3716a1c-f1f9-4a87-9435-b3897b2aedb0",
   "metadata": {},
   "outputs": [
    {
     "data": {
      "text/plain": [
       "'One'"
      ]
     },
     "execution_count": 11,
     "metadata": {},
     "output_type": "execute_result"
    }
   ],
   "source": [
    "d1.get(1)"
   ]
  },
  {
   "cell_type": "code",
   "execution_count": 12,
   "id": "c9c907e3-25c9-4dc8-9d3b-3c584b387297",
   "metadata": {},
   "outputs": [
    {
     "data": {
      "text/plain": [
       "'Three'"
      ]
     },
     "execution_count": 12,
     "metadata": {},
     "output_type": "execute_result"
    }
   ],
   "source": [
    "d1.get(3)"
   ]
  },
  {
   "cell_type": "code",
   "execution_count": 14,
   "id": "9ef55e52-f7ee-4273-a893-44f1fabe7f2e",
   "metadata": {},
   "outputs": [],
   "source": [
    "d1.get(4)"
   ]
  },
  {
   "cell_type": "code",
   "execution_count": 15,
   "id": "be12aa78-a59f-49bc-8927-6e61aba88c0e",
   "metadata": {},
   "outputs": [
    {
     "data": {
      "text/plain": [
       "'One'"
      ]
     },
     "execution_count": 15,
     "metadata": {},
     "output_type": "execute_result"
    }
   ],
   "source": [
    "d1.get(True)"
   ]
  },
  {
   "cell_type": "code",
   "execution_count": 16,
   "id": "41bfa47d-1029-422a-a105-4a244fe8ba12",
   "metadata": {},
   "outputs": [],
   "source": [
    "d2= d1.copy()"
   ]
  },
  {
   "cell_type": "code",
   "execution_count": 17,
   "id": "b29f46d4-928a-4756-b90b-471cf1649f9a",
   "metadata": {},
   "outputs": [
    {
     "name": "stdout",
     "output_type": "stream",
     "text": [
      "{1: 'One', 2: 'Two', 3: 'Three'}\n",
      "{1: 'One', 2: 'Two', 3: 'Three'}\n"
     ]
    }
   ],
   "source": [
    "print(d1)\n",
    "print(d2)"
   ]
  },
  {
   "cell_type": "code",
   "execution_count": 19,
   "id": "b742eac3-254c-4af6-a6fc-4b8eb93b496b",
   "metadata": {},
   "outputs": [
    {
     "data": {
      "text/plain": [
       "True"
      ]
     },
     "execution_count": 19,
     "metadata": {},
     "output_type": "execute_result"
    }
   ],
   "source": [
    "d1 == d2"
   ]
  },
  {
   "cell_type": "code",
   "execution_count": 20,
   "id": "c7704d06-2b29-4cfe-bf85-3cd5b7f94254",
   "metadata": {},
   "outputs": [
    {
     "name": "stdout",
     "output_type": "stream",
     "text": [
      "1964612089728\n",
      "1964612036736\n"
     ]
    }
   ],
   "source": [
    "print(id(d1))\n",
    "print(id(d2))"
   ]
  },
  {
   "cell_type": "code",
   "execution_count": 24,
   "id": "e00e4322-acfd-46c0-8113-3e901bbbbd79",
   "metadata": {},
   "outputs": [
    {
     "name": "stdout",
     "output_type": "stream",
     "text": [
      "{2: 'Two', 3: 'Three', 'criket': (23, 45, 56, 67, 78, 89)}\n"
     ]
    }
   ],
   "source": [
    "d2['criket'] = (23, 45, 56, 67, 78, 89)\n",
    "print(d2)"
   ]
  },
  {
   "cell_type": "code",
   "execution_count": 25,
   "id": "df824f33-ec99-4637-b10c-cd1fac2b880c",
   "metadata": {},
   "outputs": [
    {
     "data": {
      "text/plain": [
       "tuple"
      ]
     },
     "execution_count": 25,
     "metadata": {},
     "output_type": "execute_result"
    }
   ],
   "source": [
    "type(d2['criket'])"
   ]
  },
  {
   "cell_type": "code",
   "execution_count": 26,
   "id": "614ced25-66c9-40f6-a03c-21411f3c05e8",
   "metadata": {},
   "outputs": [
    {
     "ename": "TypeError",
     "evalue": "dict.keys() takes no arguments (1 given)",
     "output_type": "error",
     "traceback": [
      "\u001b[31m---------------------------------------------------------------------------\u001b[39m",
      "\u001b[31mTypeError\u001b[39m                                 Traceback (most recent call last)",
      "\u001b[36mCell\u001b[39m\u001b[36m \u001b[39m\u001b[32mIn[26]\u001b[39m\u001b[32m, line 1\u001b[39m\n\u001b[32m----> \u001b[39m\u001b[32m1\u001b[39m \u001b[43md2\u001b[49m\u001b[43m.\u001b[49m\u001b[43mkeys\u001b[49m\u001b[43m(\u001b[49m\u001b[38;5;28;43;01mTrue\u001b[39;49;00m\u001b[43m)\u001b[49m\n",
      "\u001b[31mTypeError\u001b[39m: dict.keys() takes no arguments (1 given)"
     ]
    }
   ],
   "source": [
    "d2.keys(True)"
   ]
  },
  {
   "cell_type": "code",
   "execution_count": 28,
   "id": "c5a12837-ac80-42e8-a1c0-d6690ea0bd47",
   "metadata": {},
   "outputs": [
    {
     "name": "stdout",
     "output_type": "stream",
     "text": [
      "{2: 'Two', 3: 'Three', 'criket': 'ipl'}\n"
     ]
    }
   ],
   "source": [
    "d2['criket'] = 'ipl'\n",
    "print(d2)"
   ]
  },
  {
   "cell_type": "code",
   "execution_count": 29,
   "id": "c54dd883-7532-4ee7-8d68-0023450c7620",
   "metadata": {},
   "outputs": [
    {
     "data": {
      "text/plain": [
       "'ipl'"
      ]
     },
     "execution_count": 29,
     "metadata": {},
     "output_type": "execute_result"
    }
   ],
   "source": [
    "d2.pop('criket')"
   ]
  },
  {
   "cell_type": "code",
   "execution_count": 31,
   "id": "c1173a4c-998f-413f-b93a-f408fab06f57",
   "metadata": {},
   "outputs": [
    {
     "name": "stdout",
     "output_type": "stream",
     "text": [
      "{2: 'Two', 3: 'Three'}\n"
     ]
    }
   ],
   "source": [
    "d4 = d2.copy()\n",
    "print(d4)"
   ]
  },
  {
   "cell_type": "code",
   "execution_count": 32,
   "id": "94471289-7121-45c2-b0f7-008ead411169",
   "metadata": {},
   "outputs": [
    {
     "data": {
      "text/plain": [
       "True"
      ]
     },
     "execution_count": 32,
     "metadata": {},
     "output_type": "execute_result"
    }
   ],
   "source": [
    "d2 == d4"
   ]
  },
  {
   "cell_type": "code",
   "execution_count": 33,
   "id": "39323070-41f3-4c92-b743-637a0cf89cd8",
   "metadata": {},
   "outputs": [
    {
     "name": "stdout",
     "output_type": "stream",
     "text": [
      "1964612036736\n",
      "1964619041536\n"
     ]
    }
   ],
   "source": [
    "print(id(d2))\n",
    "print(id(d4))"
   ]
  },
  {
   "cell_type": "code",
   "execution_count": null,
   "id": "77df385d-8768-4a7a-988b-c8b4c1ac279d",
   "metadata": {},
   "outputs": [],
   "source": [
    "for i in d1:\n",
    "    print(i)"
   ]
  },
  {
   "cell_type": "code",
   "execution_count": null,
   "id": "f0b9b436-d817-413b-a8f7-e3cc2096f9a6",
   "metadata": {},
   "outputs": [],
   "source": [
    "for i in d1:\n",
    "    print(i,\":\",d1[i])"
   ]
  },
  {
   "cell_type": "code",
   "execution_count": null,
   "id": "fafe4e82-b420-4912-8f3b-86846ab0cb14",
   "metadata": {},
   "outputs": [],
   "source": [
    "print(\"c:\\nit\")\n",
    "print(r\"c:\\nit\") #r - A raw string tells python to ignore escape sequences like \\n,\\t,\\\\, etc., and treat backslashes(\\) as character."
   ]
  },
  {
   "cell_type": "code",
   "execution_count": null,
   "id": "cd1dd988-ce1b-4e98-9970-6bc7f661c11a",
   "metadata": {},
   "outputs": [],
   "source": [
    "#help(dict) #help() -  this is built-in function used to get documentation about python objects. - like functions, modules, types, classes, methods, etc."
   ]
  },
  {
   "cell_type": "code",
   "execution_count": null,
   "id": "518d1246-9bf8-4595-87a7-26269d62ccb9",
   "metadata": {},
   "outputs": [],
   "source": []
  }
 ],
 "metadata": {
  "kernelspec": {
   "display_name": "Python 3 (ipykernel)",
   "language": "python",
   "name": "python3"
  },
  "language_info": {
   "codemirror_mode": {
    "name": "ipython",
    "version": 3
   },
   "file_extension": ".py",
   "mimetype": "text/x-python",
   "name": "python",
   "nbconvert_exporter": "python",
   "pygments_lexer": "ipython3",
   "version": "3.13.5"
  }
 },
 "nbformat": 4,
 "nbformat_minor": 5
}
