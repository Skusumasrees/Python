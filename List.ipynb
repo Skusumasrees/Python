{
 "cells": [
  {
   "cell_type": "code",
   "execution_count": 2,
   "id": "9c186c50-c37b-4e67-8330-fb5a400fed71",
   "metadata": {},
   "outputs": [
    {
     "name": "stdout",
     "output_type": "stream",
     "text": [
      "[]\n",
      "[1, 2.3, True, 'This is List']\n",
      "Nested List:  ['Siri', 25, [50, 100], [150, 90]]\n",
      "Length of the list:  4\n"
     ]
    }
   ],
   "source": [
    "#List \n",
    "##List in python is mutable(can change),ordered(elements keep the order you gave),and indexed collection of elements or items\n",
    "##it allows duplicates\n",
    "##To create list(Syntax:list_name=[element1,element2,element3,...]\n",
    "list1=[]#Empty list\n",
    "list2 = [1,2.3,True,'This is List']#allows different type of data(heterogenious)\n",
    "print(list1)\n",
    "print(list2)\n",
    "list3=[\"Siri\", 25, [50, 100], [150, 90]]\n",
    "print(\"Nested List: \", list3)\n",
    "print(\"Length of the list: \", len(list3))"
   ]
  },
  {
   "cell_type": "code",
   "execution_count": 4,
   "id": "6709cca9-84b0-4a2f-b365-3a642ae8a531",
   "metadata": {},
   "outputs": [
    {
     "name": "stdout",
     "output_type": "stream",
     "text": [
      "2.3\n",
      "100\n",
      "[150, 90]\n",
      "[2.3, True, 'This is List']\n",
      "[2.3, True]\n",
      "[1, 2.3, True]\n",
      "[1]\n"
     ]
    }
   ],
   "source": [
    "#Accesing Elements of the List\n",
    "##Using indexing\n",
    "print(list2[1])\n",
    "print(list3[2][1]) #Accessing nested Elements\n",
    "print(list3[-1]) #Accessing elements using negative index\n",
    "##using slicing Syntax:list_name(staring_index,ending_index,step)\n",
    "print(list2[1:])\n",
    "print(list2[1:3])\n",
    "print(list2[:-1])#Reverse Indexing\n",
    "print(list2[:-3])"
   ]
  },
  {
   "cell_type": "code",
   "execution_count": 5,
   "id": "d5386111-8294-4d90-91b5-6871b8edad9c",
   "metadata": {},
   "outputs": [
    {
     "name": "stdout",
     "output_type": "stream",
     "text": [
      "[1, 2.3, True, 'This is List', 'new element']\n",
      "[1, 2.3, True, (2+3j), 'This is List', 'new element']\n"
     ]
    }
   ],
   "source": [
    "#Modifying list\n",
    "#append()-To add element at the end(last) of the list\n",
    "list2.append('new element')\n",
    "print(list2)\n",
    "\n",
    "#insert()- To add element in required index\n",
    "list2.insert(3,2+3j)\n",
    "print(list2)"
   ]
  },
  {
   "cell_type": "code",
   "execution_count": 4,
   "id": "726439a2-85d2-4c75-96a6-be838ec98347",
   "metadata": {},
   "outputs": [
    {
     "name": "stdout",
     "output_type": "stream",
     "text": [
      "New_List:  [1, 2.3, True, 'This is List', 'new element']\n",
      "[]\n"
     ]
    }
   ],
   "source": [
    "#copy()-To copy from one list to another list\n",
    "new_list=list2.copy()\n",
    "print(\"New_List: \",new_list)\n",
    "#clear()=To clear the list\n",
    "new_list.clear()\n",
    "print(new_list)"
   ]
  },
  {
   "cell_type": "code",
   "execution_count": 5,
   "id": "7510b823-bcb2-4f6d-90e5-d818152c0184",
   "metadata": {},
   "outputs": [
    {
     "data": {
      "text/plain": [
       "1"
      ]
     },
     "execution_count": 5,
     "metadata": {},
     "output_type": "execute_result"
    }
   ],
   "source": [
    "#count()-to count how many times the element is repeated in given list\n",
    "list2.count(2.3)"
   ]
  },
  {
   "cell_type": "code",
   "execution_count": 6,
   "id": "c600119a-a4af-4820-b966-b34662de2272",
   "metadata": {},
   "outputs": [
    {
     "name": "stdout",
     "output_type": "stream",
     "text": [
      "[1, 2.3, True, 'This is List', 'new element']\n",
      "[1, 2.3, True, 'This is List']\n"
     ]
    }
   ],
   "source": [
    "#remove()-To remove single element from the list-removes directly without index\n",
    "print(list2)\n",
    "list2.remove('new element')\n",
    "print(list2)"
   ]
  },
  {
   "cell_type": "code",
   "execution_count": 7,
   "id": "e1356591-8426-4876-8802-a0b9861f13c0",
   "metadata": {},
   "outputs": [
    {
     "name": "stdout",
     "output_type": "stream",
     "text": [
      "[1, 2.3, True, 'This is List']\n",
      "[1, 2.3, True]\n"
     ]
    }
   ],
   "source": [
    "#pop()-to remove the element at the end of the given list-it removes by index but by default last\n",
    "print(list2)\n",
    "list2.pop()\n",
    "print(list2)\n",
    "#list2.pop(2)\n",
    "#print(list2)"
   ]
  },
  {
   "cell_type": "code",
   "execution_count": 8,
   "id": "a3ec99a3-204f-4247-87ee-861938b26762",
   "metadata": {},
   "outputs": [
    {
     "data": {
      "text/plain": [
       "1"
      ]
     },
     "execution_count": 8,
     "metadata": {},
     "output_type": "execute_result"
    }
   ],
   "source": [
    "#index()-to know the index of given element\n",
    "list2.index(2.3)"
   ]
  },
  {
   "cell_type": "code",
   "execution_count": 9,
   "id": "2a2ed6c3-f26a-48d6-bb3d-46a873e1f3ce",
   "metadata": {},
   "outputs": [
    {
     "data": {
      "text/plain": [
       "[1, 2.3, True, 52, 5.3, (3+4j), True, 'this is list3']"
      ]
     },
     "execution_count": 9,
     "metadata": {},
     "output_type": "execute_result"
    }
   ],
   "source": [
    "#extend()- to add one list to another list\n",
    "list3=[52,5.3,3+4j,True,\"this is list3\"]\n",
    "list2.extend(list3)\n",
    "list2"
   ]
  },
  {
   "cell_type": "code",
   "execution_count": 12,
   "id": "4a05d12f-4690-4858-a354-0a3a63b40655",
   "metadata": {},
   "outputs": [
    {
     "data": {
      "text/plain": [
       "['this is list3', True, (3+4j), 5.3, 52]"
      ]
     },
     "execution_count": 12,
     "metadata": {},
     "output_type": "execute_result"
    }
   ],
   "source": [
    "#reverse()-to reverse the list\n",
    "list3.reverse()\n",
    "list3"
   ]
  },
  {
   "cell_type": "code",
   "execution_count": 16,
   "id": "5d1d3ed3-8186-4437-93aa-b7743070dd15",
   "metadata": {},
   "outputs": [
    {
     "name": "stdout",
     "output_type": "stream",
     "text": [
      "[10, 23, 25, 32, 34, 56, 64, 84, 90]\n",
      "[90, 84, 64, 56, 34, 32, 25, 23, 10]\n"
     ]
    }
   ],
   "source": [
    "#sort()-to sort the elements in ascending order\n",
    "list1=[10,23,34,25,64,32,90,84,56]\n",
    "list1.sort()\n",
    "print(list1)\n",
    "list1.sort(reverse = True)#Hyperparameter Tunning\n",
    "print(list1)"
   ]
  },
  {
   "cell_type": "code",
   "execution_count": 6,
   "id": "25fac09b-f3e5-4ac6-aec5-74b326e9226d",
   "metadata": {},
   "outputs": [
    {
     "ename": "NameError",
     "evalue": "name 'list1' is not defined",
     "output_type": "error",
     "traceback": [
      "\u001b[31m---------------------------------------------------------------------------\u001b[39m",
      "\u001b[31mNameError\u001b[39m                                 Traceback (most recent call last)",
      "\u001b[36mCell\u001b[39m\u001b[36m \u001b[39m\u001b[32mIn[6]\u001b[39m\u001b[32m, line 3\u001b[39m\n\u001b[32m      1\u001b[39m \u001b[38;5;66;03m#To delete the whole list\u001b[39;00m\n\u001b[32m      2\u001b[39m \u001b[38;5;28;01mdel\u001b[39;00m list1;\n\u001b[32m----> \u001b[39m\u001b[32m3\u001b[39m \u001b[38;5;28mprint\u001b[39m(\u001b[43mlist1\u001b[49m)\n",
      "\u001b[31mNameError\u001b[39m: name 'list1' is not defined"
     ]
    }
   ],
   "source": [
    "#To delete the whole list\n",
    "del list1;\n",
    "print(list1)"
   ]
  },
  {
   "cell_type": "code",
   "execution_count": 8,
   "id": "96b642ea-7935-4027-b049-07f0e81e7ed3",
   "metadata": {},
   "outputs": [
    {
     "name": "stdout",
     "output_type": "stream",
     "text": [
      "['one', 'two', 'three', 'four', 'five', 'six', 'seven', 'eight', 'nine']\n",
      "['one', 'two', 'three', 'four', 'five', 'six', 'seven', 'eight', 'nine']\n"
     ]
    }
   ],
   "source": [
    "#Copy List\n",
    "mylist = ['one', 'two', 'three', 'four', 'five', 'six', 'seven', 'eight', 'nine']\n",
    "print(mylist)\n",
    "mylist1 = mylist # Create a new reference \"mylist1\"\n",
    "print(mylist1)"
   ]
  },
  {
   "cell_type": "code",
   "execution_count": 9,
   "id": "f11399b9-bb11-416e-8add-8d184fe81016",
   "metadata": {},
   "outputs": [
    {
     "data": {
      "text/plain": [
       "(2078954903936, 2078954903936)"
      ]
     },
     "execution_count": 9,
     "metadata": {},
     "output_type": "execute_result"
    }
   ],
   "source": [
    "id(mylist) , id(mylist1) # The address of both mylist & mylist1 will be the same"
   ]
  },
  {
   "cell_type": "code",
   "execution_count": 10,
   "id": "58803e44-d09c-49d5-b4ff-6b34cb9a8eb8",
   "metadata": {},
   "outputs": [],
   "source": [
    "#Join Lists\n",
    "list1 = ['one', 'two', 'three', 'four']\n",
    "list2 = ['five', 'six', 'seven', 'eight']"
   ]
  },
  {
   "cell_type": "code",
   "execution_count": 11,
   "id": "90f7f1f8-c48b-427f-b17b-dc6e763309fc",
   "metadata": {},
   "outputs": [
    {
     "name": "stdout",
     "output_type": "stream",
     "text": [
      "['one', 'two', 'three', 'four', 'five', 'six', 'seven', 'eight']\n"
     ]
    }
   ],
   "source": [
    "#joining two lists using '+' operator\n",
    "list3 = list1 + list2\n",
    "print(list3)"
   ]
  },
  {
   "cell_type": "code",
   "execution_count": 13,
   "id": "8dbee3f4-5901-4717-88a9-62ee1323b1e8",
   "metadata": {},
   "outputs": [
    {
     "data": {
      "text/plain": [
       "['one', 'two', 'three', 'four', 'five', 'six', 'seven', 'eight']"
      ]
     },
     "execution_count": 13,
     "metadata": {},
     "output_type": "execute_result"
    }
   ],
   "source": [
    "#List Membership\n",
    "list3"
   ]
  },
  {
   "cell_type": "code",
   "execution_count": 14,
   "id": "1087202e-7d2d-46a6-b58a-37ad49b31933",
   "metadata": {},
   "outputs": [
    {
     "data": {
      "text/plain": [
       "True"
      ]
     },
     "execution_count": 14,
     "metadata": {},
     "output_type": "execute_result"
    }
   ],
   "source": [
    "'one' in list3 # Check if 'one' exist in the list"
   ]
  },
  {
   "cell_type": "code",
   "execution_count": 15,
   "id": "7a7a6316-80c0-4448-9ca4-dd7bd5d86d62",
   "metadata": {},
   "outputs": [
    {
     "data": {
      "text/plain": [
       "False"
      ]
     },
     "execution_count": 15,
     "metadata": {},
     "output_type": "execute_result"
    }
   ],
   "source": [
    "'ten' in list3 # Check if 'ten' exist in the list"
   ]
  },
  {
   "cell_type": "code",
   "execution_count": 16,
   "id": "ba8f33ef-7656-45b6-bc0b-174060fa6d49",
   "metadata": {},
   "outputs": [
    {
     "name": "stdout",
     "output_type": "stream",
     "text": [
      "Three is present in the list\n"
     ]
    }
   ],
   "source": [
    "if 'three' in list1: # Check if 'three' exist in the list\n",
    "    print('Three is present in the list')\n",
    "else:\n",
    "    print('Three is not present in the list')"
   ]
  },
  {
   "cell_type": "code",
   "execution_count": 17,
   "id": "72bcde2a-be3a-4fa3-88da-8eb2d8d60598",
   "metadata": {},
   "outputs": [
    {
     "name": "stdout",
     "output_type": "stream",
     "text": [
      "eleven is not present in the list\n"
     ]
    }
   ],
   "source": [
    "if 'eleven' in list1: # Check if 'eleven' exist in the list\n",
    "    print('eleven is present in the list')\n",
    "else:\n",
    "    print('eleven is not present in the list')"
   ]
  },
  {
   "cell_type": "code",
   "execution_count": 22,
   "id": "b8cb9a3d-c25b-4128-8bcc-7c1e83361195",
   "metadata": {},
   "outputs": [
    {
     "name": "stdout",
     "output_type": "stream",
     "text": [
      "['one', 'two', 'three', 'four', 'five', 'six', 'seven', 'eight']\n"
     ]
    }
   ],
   "source": [
    "#Sort List\n",
    "list1=list3.copy()\n",
    "print(list1)"
   ]
  },
  {
   "cell_type": "code",
   "execution_count": 21,
   "id": "487ae682-6de8-41e7-905b-85db3411d631",
   "metadata": {},
   "outputs": [
    {
     "name": "stdout",
     "output_type": "stream",
     "text": [
      "['one', 'two', 'three', 'four', 'five', 'six', 'seven', 'eight']\n"
     ]
    }
   ],
   "source": [
    "list1.reverse() # Reverse the list\n",
    "print(list1)"
   ]
  },
  {
   "cell_type": "code",
   "execution_count": 23,
   "id": "1e5728bf-8685-4b49-b7fa-486439426a6c",
   "metadata": {},
   "outputs": [
    {
     "name": "stdout",
     "output_type": "stream",
     "text": [
      "['eight', 'seven', 'six', 'five', 'four', 'three', 'two', 'one']\n"
     ]
    }
   ],
   "source": [
    "list1 = list1[::-1] # Reverse the list\n",
    "print(list1)"
   ]
  },
  {
   "cell_type": "code",
   "execution_count": 24,
   "id": "ecdd0e03-9cb8-41f5-b43b-6c9983c46391",
   "metadata": {},
   "outputs": [
    {
     "data": {
      "text/plain": [
       "[2, 5, 9, 12, 34, 88, 99]"
      ]
     },
     "execution_count": 24,
     "metadata": {},
     "output_type": "execute_result"
    }
   ],
   "source": [
    "mylist3 = [9,5,2,99,12,88,34]\n",
    "mylist3.sort() # Sort list in ascending order\n",
    "mylist3"
   ]
  },
  {
   "cell_type": "code",
   "execution_count": 25,
   "id": "7b6ad13b-8b2d-43a8-8903-66ab8cb916ec",
   "metadata": {},
   "outputs": [
    {
     "data": {
      "text/plain": [
       "[99, 88, 34, 12, 9, 5, 2]"
      ]
     },
     "execution_count": 25,
     "metadata": {},
     "output_type": "execute_result"
    }
   ],
   "source": [
    "mylist3 = [9,5,2,99,12,88,34]\n",
    "mylist3.sort(reverse=True) # Sort list in descending order\n",
    "mylist3"
   ]
  },
  {
   "cell_type": "code",
   "execution_count": 26,
   "id": "09362b2b-cb15-4a80-860f-a73fb965cea8",
   "metadata": {},
   "outputs": [
    {
     "data": {
      "text/plain": [
       "[11, 21, 33, 65, 88, 98]"
      ]
     },
     "execution_count": 26,
     "metadata": {},
     "output_type": "execute_result"
    }
   ],
   "source": [
    "mylist4 = [88,65,33,21,11,98]\n",
    "sorted(mylist4) # Returns a new sorted list and doesn't change original list"
   ]
  },
  {
   "cell_type": "code",
   "execution_count": 27,
   "id": "27b95710-964e-4da0-af54-eeb6f99fc9e0",
   "metadata": {},
   "outputs": [
    {
     "data": {
      "text/plain": [
       "[88, 65, 33, 21, 11, 98]"
      ]
     },
     "execution_count": 27,
     "metadata": {},
     "output_type": "execute_result"
    }
   ],
   "source": [
    "mylist4"
   ]
  },
  {
   "cell_type": "code",
   "execution_count": 28,
   "id": "c4942271-b74e-4e0e-98e7-f98fda2d3f32",
   "metadata": {},
   "outputs": [
    {
     "name": "stdout",
     "output_type": "stream",
     "text": [
      "['eight', 'seven', 'six', 'five', 'four', 'three', 'two', 'one']\n"
     ]
    }
   ],
   "source": [
    "#Loop through a list\n",
    "print(list1)"
   ]
  },
  {
   "cell_type": "code",
   "execution_count": 29,
   "id": "dfe48bb3-940a-4330-b116-6d7fa0509c33",
   "metadata": {},
   "outputs": [
    {
     "name": "stdout",
     "output_type": "stream",
     "text": [
      "eight\n",
      "seven\n",
      "six\n",
      "five\n",
      "four\n",
      "three\n",
      "two\n",
      "one\n"
     ]
    }
   ],
   "source": [
    "for i in list1:\n",
    "    print(i)"
   ]
  },
  {
   "cell_type": "code",
   "execution_count": 30,
   "id": "62fcb368-8d90-44a4-bf6a-70841a6e5028",
   "metadata": {},
   "outputs": [
    {
     "name": "stdout",
     "output_type": "stream",
     "text": [
      "(0, 'eight')\n",
      "(1, 'seven')\n",
      "(2, 'six')\n",
      "(3, 'five')\n",
      "(4, 'four')\n",
      "(5, 'three')\n",
      "(6, 'two')\n",
      "(7, 'one')\n"
     ]
    }
   ],
   "source": [
    "for i in enumerate(list1):\n",
    "    print(i)\n"
   ]
  },
  {
   "cell_type": "raw",
   "id": "09385dbc-b146-47cd-8509-f913e19b8e47",
   "metadata": {},
   "source": [
    "All / Any\n",
    "The all() method returns:\n",
    "True - If all elements in a list are true\n",
    "False - If any element in a list is false\n",
    "The any() function returns True if any element in the list is True. If not, any() returns False.\n",
    "\n"
   ]
  },
  {
   "cell_type": "code",
   "execution_count": 32,
   "id": "49d51385-577a-49b6-b9ca-7c5920573ffa",
   "metadata": {},
   "outputs": [],
   "source": [
    "L1 = [1,2,3,4,0]"
   ]
  },
  {
   "cell_type": "code",
   "execution_count": 33,
   "id": "30b5a84a-d85c-4c06-bf5f-32dcdea43f72",
   "metadata": {},
   "outputs": [
    {
     "data": {
      "text/plain": [
       "False"
      ]
     },
     "execution_count": 33,
     "metadata": {},
     "output_type": "execute_result"
    }
   ],
   "source": [
    "all(L1) # Will Return false as one value is false (Value 0)"
   ]
  },
  {
   "cell_type": "code",
   "execution_count": 34,
   "id": "4821fa78-8ed1-4381-b188-6792775ad4f2",
   "metadata": {},
   "outputs": [
    {
     "data": {
      "text/plain": [
       "True"
      ]
     },
     "execution_count": 34,
     "metadata": {},
     "output_type": "execute_result"
    }
   ],
   "source": [
    "any(L1) # Will Return True as we have items in the list with True value"
   ]
  },
  {
   "cell_type": "code",
   "execution_count": 35,
   "id": "62c81f00-d816-4bd1-b0a7-45ece597eb27",
   "metadata": {},
   "outputs": [],
   "source": [
    "L2 = [1,2,3,4,True,False]"
   ]
  },
  {
   "cell_type": "code",
   "execution_count": 36,
   "id": "9ac062d5-15cb-447f-ba85-0148782d0709",
   "metadata": {},
   "outputs": [
    {
     "data": {
      "text/plain": [
       "False"
      ]
     },
     "execution_count": 36,
     "metadata": {},
     "output_type": "execute_result"
    }
   ],
   "source": [
    "all(L2) # Returns false as one value is false"
   ]
  },
  {
   "cell_type": "code",
   "execution_count": 37,
   "id": "699f8404-091a-4b95-a3a1-0f9633a210e7",
   "metadata": {},
   "outputs": [
    {
     "data": {
      "text/plain": [
       "True"
      ]
     },
     "execution_count": 37,
     "metadata": {},
     "output_type": "execute_result"
    }
   ],
   "source": [
    "any(L2) # Will Return True as we have items in the list with True value"
   ]
  },
  {
   "cell_type": "code",
   "execution_count": 39,
   "id": "8797940d-58c9-4b8c-8882-abadefc3cc72",
   "metadata": {},
   "outputs": [
    {
     "data": {
      "text/plain": [
       "True"
      ]
     },
     "execution_count": 39,
     "metadata": {},
     "output_type": "execute_result"
    }
   ],
   "source": [
    "L3 = [1,2,3,True]\n",
    "all(L3) # Will return True as all items in the list are True"
   ]
  },
  {
   "cell_type": "code",
   "execution_count": null,
   "id": "afb622d7-0400-406d-acc4-e7d94be6c646",
   "metadata": {},
   "outputs": [],
   "source": []
  }
 ],
 "metadata": {
  "kernelspec": {
   "display_name": "Python 3 (ipykernel)",
   "language": "python",
   "name": "python3"
  },
  "language_info": {
   "codemirror_mode": {
    "name": "ipython",
    "version": 3
   },
   "file_extension": ".py",
   "mimetype": "text/x-python",
   "name": "python",
   "nbconvert_exporter": "python",
   "pygments_lexer": "ipython3",
   "version": "3.13.5"
  }
 },
 "nbformat": 4,
 "nbformat_minor": 5
}
