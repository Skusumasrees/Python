{
 "cells": [
  {
   "cell_type": "markdown",
   "id": "59c9c0ef-acf7-472c-8690-f2bef02d1573",
   "metadata": {},
   "source": [
    "OPERATORS:\n",
    "An operator is a symbol (or sometimes a keyword) that tells Python to perform a specific operation on one or more values (called operands)."
   ]
  },
  {
   "cell_type": "code",
   "execution_count": 1,
   "id": "adebd542-2b47-457a-a823-3dbdfba95364",
   "metadata": {},
   "outputs": [
    {
     "name": "stdin",
     "output_type": "stream",
     "text": [
      "Enter first Value: 10\n",
      "Enter Second Value: 2\n"
     ]
    },
    {
     "name": "stdout",
     "output_type": "stream",
     "text": [
      "Addition of 10 and 2 : 12\n",
      "Subtraction of 10 and 2 : 8\n",
      "Multiplication of 10 and 2 : 20\n",
      "Quotient of 10 and 2 : 5.0\n",
      "Quotient(without decimal value) of 10 and 2 : 5\n",
      "Exponentiation of 10 and 2 : 100\n",
      "Remainder of 10 and 2 : 0\n",
      "\n",
      "Assignment Operator\n",
      "Addition of 12 and 2 : 12\n",
      "Subtraction of 10 and 2 : 10\n",
      "Multiplication of 20 and 2 : 20\n",
      "Quotient of 10.0 and 2 : 10.0\n"
     ]
    }
   ],
   "source": [
    "#Arthmetic Operator(+, -, /, *, //, **, %)\n",
    "a = int(input(\"Enter first Value:\"))\n",
    "b = int(input(\"Enter Second Value:\"))\n",
    "#Addition(+)\n",
    "print(\"Addition of\",a,\"and\",b,\":\",a+b)\n",
    "#Subtraction(-)\n",
    "print(\"Subtraction of\",a,\"and\",b,\":\",a-b)\n",
    "#Multiplication\n",
    "print(\"Multiplication of\",a,\"and\",b,\":\",a*b)\n",
    "#Division(Quotient)(/)\n",
    "print(\"Quotient of\",a,\"and\",b,\":\",a/b)\n",
    "#Floor Division(//)\n",
    "print(\"Quotient(without decimal value) of\",a,\"and\",b,\":\",a//b)\n",
    "#Exponentiation(**)\n",
    "print(\"Exponentiation of\",a,\"and\",b,\":\",a**b)\n",
    "#Division(Remainder(%))\n",
    "print(\"Remainder of\",a,\"and\",b,\":\",a%b)"
   ]
  },
  {
   "cell_type": "code",
   "execution_count": 3,
   "id": "b755cf5d-51c3-4b29-9442-15a79dde7278",
   "metadata": {},
   "outputs": [
    {
     "name": "stdin",
     "output_type": "stream",
     "text": [
      "Enter first Value: 10\n",
      "Enter Second Value: 2\n"
     ]
    },
    {
     "name": "stdout",
     "output_type": "stream",
     "text": [
      "Addition of 12 and 2 : 12\n",
      "Subtraction of 10 and 2 : 10\n",
      "Multiplication of 20 and 2 : 20\n",
      "Quotient of 10.0 and 2 : 10.0\n"
     ]
    }
   ],
   "source": [
    "#Assignment Operator(+= ,-= ,*=, /=)\n",
    "a = int(input(\"Enter first Value:\"))\n",
    "b = int(input(\"Enter Second Value:\"))\n",
    "a += b\n",
    "print(\"Addition of\",a,\"and\",b,\":\",a)\n",
    "a -= b\n",
    "print(\"Subtraction of\",a,\"and\",b,\":\",a)\n",
    "a *= b\n",
    "print(\"Multiplication of\",a,\"and\",b,\":\",a)\n",
    "a /= b\n",
    "print(\"Quotient of\",a,\"and\",b,\":\",a)"
   ]
  },
  {
   "cell_type": "code",
   "execution_count": 13,
   "id": "2f8fae9d-01aa-479f-9243-625a5df1848d",
   "metadata": {},
   "outputs": [
    {
     "name": "stdin",
     "output_type": "stream",
     "text": [
      "Enter the First String:  Hello World!\n",
      "Enter the Second String:  Hello World!\n"
     ]
    },
    {
     "name": "stdout",
     "output_type": "stream",
     "text": [
      "Same!\n"
     ]
    }
   ],
   "source": [
    "#Comparition Operators(==, !=, >, <, >=, <=)\n",
    "#Comparing both strings are same or not \n",
    "#using(==)\n",
    "str1 = input(\"Enter the First String: \")\n",
    "str2 = input(\"Enter the Second String: \")\n",
    "if str1 == str2:\n",
    "    print(\"Same!\")\n",
    "else:\n",
    "    print(\"Not Same!\")\n",
    "\n"
   ]
  },
  {
   "cell_type": "code",
   "execution_count": 15,
   "id": "a37afd70-cbf1-4587-b620-ce51c87adf70",
   "metadata": {},
   "outputs": [
    {
     "name": "stdin",
     "output_type": "stream",
     "text": [
      "Enter the First String:  Hello World!\n",
      "Enter the Second String:  hello world!\n"
     ]
    },
    {
     "name": "stdout",
     "output_type": "stream",
     "text": [
      "Not Same!\n"
     ]
    }
   ],
   "source": [
    "#using (!=)\n",
    "str1 = input(\"Enter the First String: \")\n",
    "str2 = input(\"Enter the Second String: \")\n",
    "if str1 != str2:\n",
    "    print(\"Not Same!\")\n",
    "else:\n",
    "    print(\"Same!\")"
   ]
  },
  {
   "cell_type": "code",
   "execution_count": 19,
   "id": "9f476e21-788d-4fcc-b5bd-4b97a41f0b4e",
   "metadata": {},
   "outputs": [
    {
     "name": "stdin",
     "output_type": "stream",
     "text": [
      "Enter First Number:  15\n",
      "Enter Second Number:  34\n"
     ]
    },
    {
     "name": "stdout",
     "output_type": "stream",
     "text": [
      "\n",
      " 15 is Smaller Then 34\n"
     ]
    }
   ],
   "source": [
    "#To find first number is equal, greater, or smaller then second number\n",
    "num1 = input(\"Enter First Number: \")\n",
    "num2 = input(\"Enter Second Number: \")\n",
    "if num1 == num2:\n",
    "    print(\"\\n\",num1,\"and\",num2, \"are Same\")\n",
    "elif num1 < num2:\n",
    "    print(\"\\n\",num1,\"is Smaller Then\",num2)\n",
    "else: #num1 > num2\n",
    "    print(\"\\n\",num1, \"is Greater Then\", num2 )"
   ]
  },
  {
   "cell_type": "code",
   "execution_count": 4,
   "id": "32c4c679-fd4e-45c7-a80f-9357f2792b19",
   "metadata": {},
   "outputs": [
    {
     "name": "stdin",
     "output_type": "stream",
     "text": [
      "Enter the n value: 5\n"
     ]
    },
    {
     "name": "stdout",
     "output_type": "stream",
     "text": [
      "1\n",
      "2\n",
      "3\n",
      "4\n",
      "5\n"
     ]
    }
   ],
   "source": [
    "#Displaying numbers from 1 t0 10\n",
    "n = int(input((\"Enter the n value:\")))\n",
    "i = 1\n",
    "while i <= n:\n",
    "    print(i)\n",
    "    i += 1\n",
    "\n",
    "\n"
   ]
  },
  {
   "cell_type": "code",
   "execution_count": 2,
   "id": "1543b6a7-fd59-4305-bcef-aae6f3f457ad",
   "metadata": {},
   "outputs": [
    {
     "name": "stdin",
     "output_type": "stream",
     "text": [
      "Enter the n value: 20\n"
     ]
    },
    {
     "name": "stdout",
     "output_type": "stream",
     "text": [
      "20\n",
      "19\n",
      "18\n",
      "17\n",
      "16\n",
      "15\n",
      "14\n",
      "13\n",
      "12\n",
      "11\n",
      "10\n",
      "9\n",
      "8\n",
      "7\n",
      "6\n",
      "5\n",
      "4\n",
      "3\n",
      "2\n",
      "1\n"
     ]
    }
   ],
   "source": [
    "#Displaying numbers from 10 to 1\n",
    "n = int(input((\"Enter the n value:\")))\n",
    "i = n\n",
    "while i >= 1:\n",
    "    print(i)\n",
    "    i -= 1"
   ]
  },
  {
   "cell_type": "code",
   "execution_count": 23,
   "id": "73c33f77-8c88-4eb7-90a9-70b169aa2f7a",
   "metadata": {},
   "outputs": [
    {
     "data": {
      "text/plain": [
       "(2, 3, 1)"
      ]
     },
     "execution_count": 23,
     "metadata": {},
     "output_type": "execute_result"
    }
   ],
   "source": [
    "#Logical Operators\n",
    "#using and \n",
    "a, b, c = 1, 2, 3\n",
    "a and b,b and c, b and a"
   ]
  },
  {
   "cell_type": "code",
   "execution_count": 24,
   "id": "9120073c-7208-474c-a98b-a82d47c6167f",
   "metadata": {},
   "outputs": [
    {
     "data": {
      "text/plain": [
       "(2, 0, 3)"
      ]
     },
     "execution_count": 24,
     "metadata": {},
     "output_type": "execute_result"
    }
   ],
   "source": [
    "a, b, c = 3, 2, 0\n",
    "a and b,b and c, b and a"
   ]
  },
  {
   "cell_type": "code",
   "execution_count": 25,
   "id": "b82a5e6b-f1c4-4a04-8fbd-0ec4ca76b4ff",
   "metadata": {},
   "outputs": [
    {
     "data": {
      "text/plain": [
       "(3, 2, 2)"
      ]
     },
     "execution_count": 25,
     "metadata": {},
     "output_type": "execute_result"
    }
   ],
   "source": [
    "#using or\n",
    "a, b, c = 3, 2, 0\n",
    "a or b,b or c, b or a"
   ]
  },
  {
   "cell_type": "code",
   "execution_count": 5,
   "id": "7b16bee5-c1b6-474b-bdf4-128285135153",
   "metadata": {},
   "outputs": [
    {
     "name": "stdin",
     "output_type": "stream",
     "text": [
      "Enter a Number:  34\n"
     ]
    },
    {
     "name": "stdout",
     "output_type": "stream",
     "text": [
      "Given number is present in the list\n"
     ]
    }
   ],
   "source": [
    "#Membership Operators(in, not in): The are used to check if a value exists i a sequence(like list,tuple,set or dictionary)\n",
    "#in\n",
    "mylist = [12, 34, 56, 29, 36, 54]\n",
    "inputnum = int(input(\"Enter a Number: \"))\n",
    "if inputnum in mylist:\n",
    "    print(\"Given number is present in the list\")\n",
    "else:\n",
    "    print(\"Given number is not present in the list\")\n",
    "\n"
   ]
  },
  {
   "cell_type": "code",
   "execution_count": 7,
   "id": "1c4e9c4a-b057-48f6-9978-e3ac0764374c",
   "metadata": {},
   "outputs": [
    {
     "name": "stdin",
     "output_type": "stream",
     "text": [
      "Enter a Number:  55\n"
     ]
    },
    {
     "name": "stdout",
     "output_type": "stream",
     "text": [
      "Given number is not present in the list\n"
     ]
    }
   ],
   "source": [
    "#not in\n",
    "mylist = [12, 34, 56, 29, 36, 54]\n",
    "inputnum = int(input(\"Enter a Number: \"))\n",
    "if inputnum not in mylist:\n",
    "    print(\"Given number is not present in the list\")\n",
    "else:\n",
    "    print(\"Given number is present in the list\")"
   ]
  },
  {
   "cell_type": "code",
   "execution_count": 9,
   "id": "6e8fa44b-bf85-42b0-b665-e2206a045355",
   "metadata": {},
   "outputs": [
    {
     "name": "stdin",
     "output_type": "stream",
     "text": [
      "Enter the First String:  Hello World!\n",
      "Enter the Second String:  Hello World!\n"
     ]
    },
    {
     "name": "stdout",
     "output_type": "stream",
     "text": [
      "Not Same!\n",
      "1706242633072\n",
      "1706242633136\n"
     ]
    }
   ],
   "source": [
    "#Identity Operators(is, is not)\n",
    "#This are used to compare memory location in other words, They check whether two variables point to the same object in memory.\n",
    "str1 = input(\"Enter the First String: \")\n",
    "str2 = input(\"Enter the Second String: \")\n",
    "if str1 is str2:\n",
    "    print(\"Same!\")\n",
    "else:\n",
    "    print(\"Not Same!\")\n",
    "print(id(str1))\n",
    "print(id(str2))"
   ]
  },
  {
   "cell_type": "code",
   "execution_count": 10,
   "id": "c82bfc0e-6671-498d-a8d3-2a5d4dbf5dc9",
   "metadata": {},
   "outputs": [
    {
     "name": "stdout",
     "output_type": "stream",
     "text": [
      "Not Same!\n"
     ]
    }
   ],
   "source": [
    "if str1 is not str2:\n",
    "    print(\"Not Same!\")\n",
    "else:\n",
    "    print(\"Same!\")"
   ]
  },
  {
   "cell_type": "code",
   "execution_count": 17,
   "id": "3038c4b5-5255-497b-bbcd-a297572f3a34",
   "metadata": {},
   "outputs": [
    {
     "data": {
      "text/plain": [
       "1"
      ]
     },
     "execution_count": 17,
     "metadata": {},
     "output_type": "execute_result"
    }
   ],
   "source": [
    "#Bitwise Operators\n",
    "#Bitwise Operators work on the binary level that means they compare and manipulate numbers bit by bit (0's and 1's)\n",
    "#and(&) - Sets bit to 1 if both bits are 1\n",
    "a = True\n",
    "b = True\n",
    "int(a & b)"
   ]
  },
  {
   "cell_type": "code",
   "execution_count": 16,
   "id": "ce367562-181c-4282-bbc3-8325376b3084",
   "metadata": {},
   "outputs": [
    {
     "data": {
      "text/plain": [
       "0"
      ]
     },
     "execution_count": 16,
     "metadata": {},
     "output_type": "execute_result"
    }
   ],
   "source": [
    "#OR(|) - Sets bit to 1 if atleast one bit is 1 \n",
    "a = False\n",
    "b = False\n",
    "int(a | b)"
   ]
  },
  {
   "cell_type": "code",
   "execution_count": 18,
   "id": "2d0f5af3-a44f-4851-beda-0a53707e97d2",
   "metadata": {},
   "outputs": [
    {
     "data": {
      "text/plain": [
       "1"
      ]
     },
     "execution_count": 18,
     "metadata": {},
     "output_type": "execute_result"
    }
   ],
   "source": [
    "#XOR(^) - Sets bit to 1 if bits are different a ^ b\n",
    "a = False\n",
    "b = True\n",
    "int(a^b)"
   ]
  },
  {
   "cell_type": "code",
   "execution_count": 12,
   "id": "98fb4de6-7524-4e06-a235-7e1390c54063",
   "metadata": {},
   "outputs": [
    {
     "data": {
      "text/plain": [
       "4"
      ]
     },
     "execution_count": 12,
     "metadata": {},
     "output_type": "execute_result"
    }
   ],
   "source": [
    "n#Not(~) - Inverts all the bits\n",
    "~ -5 #~n = -(n +1)"
   ]
  },
  {
   "cell_type": "code",
   "execution_count": 8,
   "id": "d35173c3-9a1d-46cd-bd62-cc4c8f017397",
   "metadata": {},
   "outputs": [
    {
     "name": "stdout",
     "output_type": "stream",
     "text": [
      "0b1111\n",
      "0b11110000\n"
     ]
    }
   ],
   "source": [
    "#Left Shift(<<) : Shifts bits to the left(Adds 0's on the right)\n",
    "a =15 << 4\n",
    "print(bin(15))\n",
    "print(bin(a))"
   ]
  },
  {
   "cell_type": "code",
   "execution_count": 10,
   "id": "e867cebb-4db0-4829-9987-608f9b8a05fb",
   "metadata": {},
   "outputs": [
    {
     "name": "stdout",
     "output_type": "stream",
     "text": [
      "0b1111\n",
      "1\n",
      "0b1\n"
     ]
    }
   ],
   "source": [
    "#Right Shift(>>) : Shifts bits to the right(Cuts off right bits(\n",
    "a =15 >> 3\n",
    "print(bin(15))\n",
    "print(a)\n",
    "print(bin(a))"
   ]
  },
  {
   "cell_type": "code",
   "execution_count": null,
   "id": "c74f5e43-ce34-4ded-b51b-782645e8e1bf",
   "metadata": {},
   "outputs": [],
   "source": []
  }
 ],
 "metadata": {
  "kernelspec": {
   "display_name": "Python 3 (ipykernel)",
   "language": "python",
   "name": "python3"
  },
  "language_info": {
   "codemirror_mode": {
    "name": "ipython",
    "version": 3
   },
   "file_extension": ".py",
   "mimetype": "text/x-python",
   "name": "python",
   "nbconvert_exporter": "python",
   "pygments_lexer": "ipython3",
   "version": "3.13.5"
  }
 },
 "nbformat": 4,
 "nbformat_minor": 5
}
