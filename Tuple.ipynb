{
 "cells": [
  {
   "cell_type": "code",
   "execution_count": 1,
   "id": "b2f38ecf-0d44-40db-b7b7-83d56165a70f",
   "metadata": {},
   "outputs": [
    {
     "name": "stdout",
     "output_type": "stream",
     "text": [
      "Empty Tuple:  ()\n",
      "Integer:  (10, 20, 30)\n",
      "Float:  (10.77, 52, 34, 53.34)\n",
      "Sting:  ('one', 'two', 'three')\n",
      "Nested Tuple:  ('Siri', 25, (50, 100), (150, 90))\n",
      "mixed: (100, 'Asif', 17.765)\n",
      "<class 'tuple'>\n",
      "3\n"
     ]
    }
   ],
   "source": [
    "#TUPLE\n",
    "#Tuple is Ordered, Mutable, Hetrogenious and Allows Duplicates.\n",
    "#Tuples are created using comma separated values inside the Parenthesis\"()\"\n",
    "tup = () #Empty Tuple\n",
    "print(\"Empty Tuple: \", tup)\n",
    "tup1 = (10, 20, 30) #Integer Type\n",
    "print(\"Integer: \", tup1)\n",
    "tup2 = (10.77, 52,34, 53.34) #Float Number\n",
    "print(\"Float: \", tup2)\n",
    "tup3 = ('one', 'two', \"three\")  #String\n",
    "print(\"Sting: \", tup3)\n",
    "tup4 = (\"Siri\", 25, (50, 100), (150, 90)) #Nested Tuple\n",
    "print(\"Nested Tuple: \", tup4)\n",
    "tup5 = (100, 'Asif', 17.765) #Tuple of mixed\n",
    "print(\"mixed:\", tup5)\n",
    "print(type(tup5)) #Type of the tup5\n",
    "print(len(tup5)) #length of the tuple"
   ]
  },
  {
   "cell_type": "code",
   "execution_count": 2,
   "id": "d7af2995-156d-45e0-89dd-bcd159d354c2",
   "metadata": {},
   "outputs": [
    {
     "name": "stdout",
     "output_type": "stream",
     "text": [
      "Element at index '0'(First element): 10.77\n",
      "Nested Element(value): 100\n",
      "Last Element: 30\n"
     ]
    }
   ],
   "source": [
    "#Tuple Indexing\n",
    "print(\"Element at index '0'(First element):\", tup2[0])#Retreive first element of the tuple\n",
    "print(\"Nested Element(value):\", tup4[2][1])\n",
    "print(\"Last Element:\", tup1[-1])#Accessing last element using Negative indexing"
   ]
  },
  {
   "cell_type": "code",
   "execution_count": 3,
   "id": "0b65206c-740a-4116-b70f-51f6ca23d30e",
   "metadata": {},
   "outputs": [
    {
     "name": "stdout",
     "output_type": "stream",
     "text": [
      "(1, 2, 3)\n",
      "(3, 4, 5)\n",
      "(1, 2, 3)\n",
      "(1, 2)\n",
      "(6, 7, 8)\n",
      "(7, 8)\n",
      "(1, 2, 3, 4, 5, 6, 7, 8)\n",
      "(8, 7, 6, 5, 4, 3, 2, 1)\n",
      "(8, 6, 4, 2)\n",
      "(8, 5, 2)\n",
      "(1, 3, 5, 7)\n",
      "(1, 4, 7)\n"
     ]
    }
   ],
   "source": [
    "#Tuple Slicing\n",
    "mytuple =(1, 2, 3, 4, 5, 6, 7, 8)\n",
    "print(mytuple[0:3])#Returns all items from 0th to (3-1)2nd index\n",
    "print(mytuple[2:5])\n",
    "print(mytuple[:3]) #Returns first three items\n",
    "print(mytuple[:2]) #Return first two items\n",
    "print(mytuple[-3:]) #Return last three items\n",
    "print(mytuple[-2:]) #Return last two items\n",
    "print(mytuple[:]) #Return Whole values\n",
    "print(mytuple[::-1]) #Reverse the values\n",
    "print(mytuple[::-2]) \n",
    "print(mytuple[::-3])\n",
    "print(mytuple[::2])\n",
    "print(mytuple[::3]) "
   ]
  },
  {
   "cell_type": "code",
   "execution_count": 4,
   "id": "59563c61-c286-4398-b2eb-390dc2a25854",
   "metadata": {},
   "outputs": [
    {
     "name": "stdout",
     "output_type": "stream",
     "text": [
      "(1, 2, 3, 4, 5, 6, 7, 8)\n"
     ]
    }
   ],
   "source": [
    "#Removing &Change Items\n",
    "print(mytuple)"
   ]
  },
  {
   "cell_type": "code",
   "execution_count": 5,
   "id": "3dd5320c-607f-4330-9f0d-9708ecda5172",
   "metadata": {},
   "outputs": [
    {
     "ename": "TypeError",
     "evalue": "'tuple' object doesn't support item deletion",
     "output_type": "error",
     "traceback": [
      "\u001b[31m---------------------------------------------------------------------------\u001b[39m",
      "\u001b[31mTypeError\u001b[39m                                 Traceback (most recent call last)",
      "\u001b[36mCell\u001b[39m\u001b[36m \u001b[39m\u001b[32mIn[5]\u001b[39m\u001b[32m, line 1\u001b[39m\n\u001b[32m----> \u001b[39m\u001b[32m1\u001b[39m \u001b[38;5;28;01mdel\u001b[39;00m \u001b[43mmytuple\u001b[49m\u001b[43m[\u001b[49m\u001b[32;43m0\u001b[39;49m\u001b[43m]\u001b[49m \u001b[38;5;66;03m# Tuple doesn't allows deletion and Updation because it is immutable\u001b[39;00m\n",
      "\u001b[31mTypeError\u001b[39m: 'tuple' object doesn't support item deletion"
     ]
    }
   ],
   "source": [
    "del mytuple[0] # Tuple doesn't allows deletion and Updation because it is immutable"
   ]
  },
  {
   "cell_type": "code",
   "execution_count": null,
   "id": "8fefe4f6-87af-40f2-95be-7a6f13d4d9df",
   "metadata": {},
   "outputs": [],
   "source": [
    "mytuple[0] = 1 #Tuples are immutable which means we can't CHANGE tuple items"
   ]
  },
  {
   "cell_type": "code",
   "execution_count": null,
   "id": "11910a5d-f842-42f6-bf8c-b9ef9172b6d0",
   "metadata": {},
   "outputs": [],
   "source": [
    "del mytuple #Deleting entire tuple object is possible"
   ]
  },
  {
   "cell_type": "code",
   "execution_count": null,
   "id": "3be96631-3f13-4e5f-a811-7ccbd692ecdb",
   "metadata": {},
   "outputs": [],
   "source": [
    "mytuple"
   ]
  },
  {
   "cell_type": "code",
   "execution_count": null,
   "id": "9db6cd80-07ca-4e07-9fee-df2c324f888f",
   "metadata": {},
   "outputs": [],
   "source": [
    "#Loop through a tuple\n",
    "mytuple =(1, 2, 3, 4, 5, 6, 7, 8)\n",
    "print(mytuple)"
   ]
  },
  {
   "cell_type": "code",
   "execution_count": null,
   "id": "701d506a-dd71-4265-9a99-73899bd5ca93",
   "metadata": {},
   "outputs": [],
   "source": [
    "for i in mytuple:\n",
    "    print(i)"
   ]
  },
  {
   "cell_type": "code",
   "execution_count": null,
   "id": "63354cf9-faf7-461f-a978-0a8ba12d6b96",
   "metadata": {},
   "outputs": [],
   "source": [
    "for i in enumerate(mytuple):\n",
    "    print(i)"
   ]
  },
  {
   "cell_type": "code",
   "execution_count": null,
   "id": "43f14f0a-ba15-42d4-a8ab-379b03e623e2",
   "metadata": {},
   "outputs": [],
   "source": [
    "#Tuple with Membership Operators\n",
    "print(\"mytuple: \", mytuple)\n",
    "print(\"Is '1' in mytuple: \", 1 in mytuple)\n",
    "print(\"Is '1' not in mytuple:\", 1 not in mytuple)\n",
    "\n",
    "if 3 in mytuple:\n",
    "    print(\"Three(3) is present in the tuple\")\n",
    "else:\n",
    "    print(\"Three(3) is not present in the tuple\")"
   ]
  },
  {
   "cell_type": "code",
   "execution_count": null,
   "id": "f0973610-b7ec-4c7f-9f2c-013862b3fe45",
   "metadata": {},
   "outputs": [],
   "source": [
    "#Position of elements\n",
    "print(mytuple)\n",
    "mytuple.index(1)"
   ]
  },
  {
   "cell_type": "code",
   "execution_count": null,
   "id": "06a3d513-315e-448a-8e07-4e10824208d5",
   "metadata": {},
   "outputs": [],
   "source": [
    "print(mytuple.index(5))"
   ]
  },
  {
   "cell_type": "code",
   "execution_count": null,
   "id": "823af085-8545-4d29-8e64-2c2a100b6ddb",
   "metadata": {},
   "outputs": [],
   "source": [
    "#Sorting\n",
    "mytuple2 = (53, 34, 22, 89, 54, 29)\n",
    "sorted(mytuple2)"
   ]
  },
  {
   "cell_type": "code",
   "execution_count": null,
   "id": "afd54246-2a19-4f15-acd2-b7cec7f16a60",
   "metadata": {},
   "outputs": [],
   "source": [
    "sorted(mytuple2,reverse=True)"
   ]
  },
  {
   "cell_type": "code",
   "execution_count": null,
   "id": "6bac2b29-8031-4d2e-85fa-570ae6fd2508",
   "metadata": {},
   "outputs": [],
   "source": []
  }
 ],
 "metadata": {
  "kernelspec": {
   "display_name": "Python 3 (ipykernel)",
   "language": "python",
   "name": "python3"
  },
  "language_info": {
   "codemirror_mode": {
    "name": "ipython",
    "version": 3
   },
   "file_extension": ".py",
   "mimetype": "text/x-python",
   "name": "python",
   "nbconvert_exporter": "python",
   "pygments_lexer": "ipython3",
   "version": "3.13.5"
  }
 },
 "nbformat": 4,
 "nbformat_minor": 5
}
