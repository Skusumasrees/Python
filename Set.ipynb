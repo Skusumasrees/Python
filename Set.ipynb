{
 "cells": [
  {
   "cell_type": "markdown",
   "id": "4dccc19b-1418-4469-ae5f-6b5cb3cc60ed",
   "metadata": {},
   "source": [
    "<b>SET</b><br>\n",
    "Difference between list & set --\n",
    "* My requirment of the programme is -- Represent group of object as single entity where duplicates are allowed and order is important then we go for LIST\n",
    "* I dont want dupliacated, & order also not important then we will go for SET\n",
    "* LIST are represent as [] && SET are represent as {}\n",
    "* SET object does not support indexing or slicing\n",
    "* insertation order are not preserved,order & duplicates are not allowed\n",
    "* index concept are not allowed , hetrogeneuous object are allowed\n",
    "* set is mutable\n",
    "* add & remove method is use for SET but append method is used only for LIST"
   ]
  },
  {
   "cell_type": "code",
   "execution_count": 1,
   "id": "1cc2e9e7-a946-40e8-9004-204957e1c92a",
   "metadata": {},
   "outputs": [
    {
     "data": {
      "text/plain": [
       "set()"
      ]
     },
     "execution_count": 1,
     "metadata": {},
     "output_type": "execute_result"
    }
   ],
   "source": [
    "s1=set()\n",
    "s1"
   ]
  },
  {
   "cell_type": "code",
   "execution_count": 2,
   "id": "61a13f6a-55c8-4990-ac50-21e9799e65c8",
   "metadata": {},
   "outputs": [
    {
     "name": "stdout",
     "output_type": "stream",
     "text": [
      "{32, 1, 50, 3, 4, 90}\n"
     ]
    }
   ],
   "source": [
    "s1 = {90, 4, 50, 32, 3, 1}\n",
    "print(s1)"
   ]
  },
  {
   "cell_type": "code",
   "execution_count": 3,
   "id": "80012eb0-e027-4050-b677-8bcab119f3cf",
   "metadata": {},
   "outputs": [
    {
     "data": {
      "text/plain": [
       "set"
      ]
     },
     "execution_count": 3,
     "metadata": {},
     "output_type": "execute_result"
    }
   ],
   "source": [
    "type(s1)"
   ]
  },
  {
   "cell_type": "code",
   "execution_count": 4,
   "id": "f518ee71-ad66-49fe-8a6c-452b692b89ab",
   "metadata": {},
   "outputs": [
    {
     "data": {
      "text/plain": [
       "{'a', 'b', 'e', 'k'}"
      ]
     },
     "execution_count": 4,
     "metadata": {},
     "output_type": "execute_result"
    }
   ],
   "source": [
    "s2 = {'a', 'e', 'b', 'k'}\n",
    "s2"
   ]
  },
  {
   "cell_type": "code",
   "execution_count": 5,
   "id": "1a794da4-0e0a-43ce-a2a8-3053a52f575c",
   "metadata": {},
   "outputs": [
    {
     "name": "stdout",
     "output_type": "stream",
     "text": [
      "{32, 1, 50, 3, 4, 90}\n",
      "{'k', 'b', 'a', 'e'}\n"
     ]
    }
   ],
   "source": [
    "print(s1)\n",
    "print(s2)"
   ]
  },
  {
   "cell_type": "code",
   "execution_count": 6,
   "id": "971bc9c8-7a6f-4a07-b3db-c056f6628e94",
   "metadata": {},
   "outputs": [
    {
     "data": {
      "text/plain": [
       "4"
      ]
     },
     "execution_count": 6,
     "metadata": {},
     "output_type": "execute_result"
    }
   ],
   "source": [
    "len(s2)#len() - To find the cunt of elements in set"
   ]
  },
  {
   "cell_type": "code",
   "execution_count": 7,
   "id": "3a788d91-0b08-42c8-b86d-e4499c69abd9",
   "metadata": {},
   "outputs": [],
   "source": [
    "s3 = {1, 2.3, 'nit', True, 2+3j}"
   ]
  },
  {
   "cell_type": "code",
   "execution_count": 8,
   "id": "7ee39ac1-975b-436d-9652-d04b01fcaa83",
   "metadata": {},
   "outputs": [
    {
     "name": "stdout",
     "output_type": "stream",
     "text": [
      "{1, 2.3, 'nit', (2+3j)}\n"
     ]
    }
   ],
   "source": [
    "print(s3)"
   ]
  },
  {
   "cell_type": "code",
   "execution_count": 9,
   "id": "25511b67-ed28-42f0-b36a-3ae7234dfad6",
   "metadata": {},
   "outputs": [
    {
     "name": "stdout",
     "output_type": "stream",
     "text": [
      "{32, 1, 50, 3, 4, 90}\n",
      "{32, 1, 50, 3, 4, 90}\n"
     ]
    }
   ],
   "source": [
    "print(s1)\n",
    "s1.add(1) #add()- To add element to the existing set\n",
    "print(s1)"
   ]
  },
  {
   "cell_type": "code",
   "execution_count": 10,
   "id": "c257d160-ce4e-4732-8f4d-2bd725d8ad5c",
   "metadata": {},
   "outputs": [
    {
     "name": "stdout",
     "output_type": "stream",
     "text": [
      "{32, 1, 50, 3, 4, 100, 90}\n"
     ]
    }
   ],
   "source": [
    "s1.add(100)\n",
    "print(s1)"
   ]
  },
  {
   "cell_type": "code",
   "execution_count": 11,
   "id": "10ded5d8-995e-4918-8356-5b307da5427a",
   "metadata": {},
   "outputs": [
    {
     "name": "stdout",
     "output_type": "stream",
     "text": [
      "{1, 2.3, 'nit', (2+3j)}\n",
      "set()\n"
     ]
    }
   ],
   "source": [
    "print(s3)\n",
    "s3.clear() #clear()- To remove all the elements from the set\n",
    "print(s3)"
   ]
  },
  {
   "cell_type": "code",
   "execution_count": 12,
   "id": "eb679bc6-d0f9-4996-a7df-a9b04029aad3",
   "metadata": {},
   "outputs": [
    {
     "data": {
      "text/plain": [
       "{'a', 'b', 'e', 'k'}"
      ]
     },
     "execution_count": 12,
     "metadata": {},
     "output_type": "execute_result"
    }
   ],
   "source": [
    "s4= s2.copy() #copy() - To cop elements of one set to another set\n",
    "s4"
   ]
  },
  {
   "cell_type": "code",
   "execution_count": 13,
   "id": "a896b7be-5a8e-40c5-a878-960dc0a7bd28",
   "metadata": {},
   "outputs": [
    {
     "data": {
      "text/plain": [
       "{1, 3, 4, 32, 50, 90, 100}"
      ]
     },
     "execution_count": 13,
     "metadata": {},
     "output_type": "execute_result"
    }
   ],
   "source": [
    "s1"
   ]
  },
  {
   "cell_type": "code",
   "execution_count": 14,
   "id": "83205657-a99f-41f4-a355-b1586c6b4612",
   "metadata": {},
   "outputs": [
    {
     "data": {
      "text/plain": [
       "32"
      ]
     },
     "execution_count": 14,
     "metadata": {},
     "output_type": "execute_result"
    }
   ],
   "source": [
    "s1.pop() #pop() - To remove random element from the set"
   ]
  },
  {
   "cell_type": "code",
   "execution_count": 15,
   "id": "e6a63e2c-6806-4594-b0b1-4a9c12a140cf",
   "metadata": {},
   "outputs": [
    {
     "data": {
      "text/plain": [
       "1"
      ]
     },
     "execution_count": 15,
     "metadata": {},
     "output_type": "execute_result"
    }
   ],
   "source": [
    "s1.pop()"
   ]
  },
  {
   "cell_type": "code",
   "execution_count": 16,
   "id": "a8cbc519-5e39-40f0-b046-fb1657ae5452",
   "metadata": {},
   "outputs": [
    {
     "name": "stdout",
     "output_type": "stream",
     "text": [
      "{50, 3, 4, 100, 90}\n",
      "{50, 3, 100, 90}\n"
     ]
    }
   ],
   "source": [
    "print(s1)\n",
    "s1.remove(4) #remove() - To remove a specific element from set if it is not a member otherwise it will throw error\n",
    "print(s1)"
   ]
  },
  {
   "cell_type": "code",
   "execution_count": 17,
   "id": "6319026b-f8cb-49c1-a121-fdf8cba39c3b",
   "metadata": {},
   "outputs": [
    {
     "name": "stdout",
     "output_type": "stream",
     "text": [
      "{50, 100, 90}\n",
      "{50, 90}\n"
     ]
    }
   ],
   "source": [
    "s1.discard(3) #discard() - remove the element if it is available in set otherwise it will not throw error\n",
    "print(s1)\n",
    "s1.discard(100)\n",
    "print(s1)"
   ]
  },
  {
   "cell_type": "code",
   "execution_count": 18,
   "id": "4799a7a8-de0c-489b-97a2-529d0a69da0c",
   "metadata": {},
   "outputs": [
    {
     "name": "stdout",
     "output_type": "stream",
     "text": [
      "seven\n",
      "five\n",
      "six\n",
      "two\n",
      "eight\n",
      "four\n",
      "one\n",
      "three\n"
     ]
    }
   ],
   "source": [
    "myset = {'one', 'two', 'three', 'four', 'five', 'six', 'seven', 'eight'}\n",
    "\n",
    "for i in myset:\n",
    "    print(i)  "
   ]
  },
  {
   "cell_type": "code",
   "execution_count": 19,
   "id": "130c6534-41de-4b43-b5c5-390fdd2a3d8b",
   "metadata": {},
   "outputs": [
    {
     "name": "stdout",
     "output_type": "stream",
     "text": [
      "(0, 'seven')\n",
      "(1, 'five')\n",
      "(2, 'six')\n",
      "(3, 'two')\n",
      "(4, 'eight')\n",
      "(5, 'four')\n",
      "(6, 'one')\n",
      "(7, 'three')\n"
     ]
    }
   ],
   "source": [
    "for i in enumerate(myset):\n",
    "    print(i)"
   ]
  },
  {
   "cell_type": "markdown",
   "id": "ab2c8f88-c078-4e42-bebe-dbd6ad8cda09",
   "metadata": {},
   "source": [
    "Set Operations"
   ]
  },
  {
   "cell_type": "code",
   "execution_count": 20,
   "id": "866fcab0-b117-4300-b186-6735a29820ce",
   "metadata": {},
   "outputs": [],
   "source": [
    "\n",
    "a = {1, 2, 3, 4, 5}\n",
    "b = {4, 5, 6, 7, 8}\n",
    "c = {8, 9, 10}"
   ]
  },
  {
   "cell_type": "code",
   "execution_count": 21,
   "id": "81a88e10-f680-46e2-a574-a1cec17c0a5d",
   "metadata": {},
   "outputs": [
    {
     "data": {
      "text/plain": [
       "{1, 2, 3, 4, 5, 6, 7, 8}"
      ]
     },
     "execution_count": 21,
     "metadata": {},
     "output_type": "execute_result"
    }
   ],
   "source": [
    "a.union(b) #union() - combine all the elements of both sets without dupicates"
   ]
  },
  {
   "cell_type": "code",
   "execution_count": 22,
   "id": "9899fa33-49d0-40af-8338-a8247f7fdba2",
   "metadata": {},
   "outputs": [
    {
     "data": {
      "text/plain": [
       "{1, 2, 3, 4, 5, 6, 7, 8}"
      ]
     },
     "execution_count": 22,
     "metadata": {},
     "output_type": "execute_result"
    }
   ],
   "source": [
    "a | b #union"
   ]
  },
  {
   "cell_type": "code",
   "execution_count": 23,
   "id": "ca225d94-f9bb-4940-bb0f-478fd8e45952",
   "metadata": {},
   "outputs": [
    {
     "data": {
      "text/plain": [
       "{1, 2, 3, 4, 5, 6, 7, 8, 9, 10}"
      ]
     },
     "execution_count": 23,
     "metadata": {},
     "output_type": "execute_result"
    }
   ],
   "source": [
    "a | b | c"
   ]
  },
  {
   "cell_type": "code",
   "execution_count": 24,
   "id": "ebd17a5b-2b56-4dab-a9db-bee12a6114c2",
   "metadata": {},
   "outputs": [
    {
     "name": "stdout",
     "output_type": "stream",
     "text": [
      "{1, 2, 3, 4, 5}\n",
      "{4, 5, 6, 7, 8}\n",
      "{8, 9, 10}\n"
     ]
    }
   ],
   "source": [
    "print(a)\n",
    "print(b)\n",
    "print(c)"
   ]
  },
  {
   "cell_type": "code",
   "execution_count": 25,
   "id": "9ba54d7e-6574-4022-8000-483e8d7e271a",
   "metadata": {},
   "outputs": [
    {
     "data": {
      "text/plain": [
       "{4, 5}"
      ]
     },
     "execution_count": 25,
     "metadata": {},
     "output_type": "execute_result"
    }
   ],
   "source": [
    "a.intersection(b) #intersection() - displays all the elements similar in two sets"
   ]
  },
  {
   "cell_type": "code",
   "execution_count": 26,
   "id": "977ddd8f-6463-4ba8-8929-47a53c8292fa",
   "metadata": {},
   "outputs": [
    {
     "data": {
      "text/plain": [
       "set()"
      ]
     },
     "execution_count": 26,
     "metadata": {},
     "output_type": "execute_result"
    }
   ],
   "source": [
    "a.intersection(c)"
   ]
  },
  {
   "cell_type": "code",
   "execution_count": 27,
   "id": "8a988b19-df4a-4925-aec7-3c53ba3e951d",
   "metadata": {},
   "outputs": [
    {
     "data": {
      "text/plain": [
       "{4, 5}"
      ]
     },
     "execution_count": 27,
     "metadata": {},
     "output_type": "execute_result"
    }
   ],
   "source": [
    "a & b #intersection"
   ]
  },
  {
   "cell_type": "code",
   "execution_count": 28,
   "id": "9fd024a9-3f68-4134-a653-ca1f4b49ef32",
   "metadata": {},
   "outputs": [
    {
     "name": "stdout",
     "output_type": "stream",
     "text": [
      "{1, 2, 3, 4, 5}\n",
      "{4, 5, 6, 7, 8}\n",
      "{8, 9, 10}\n"
     ]
    }
   ],
   "source": [
    "print(a)\n",
    "print(b)\n",
    "print(c)"
   ]
  },
  {
   "cell_type": "code",
   "execution_count": 29,
   "id": "e04e818d-5c32-42db-b72e-8f709a4467e6",
   "metadata": {},
   "outputs": [
    {
     "data": {
      "text/plain": [
       "{1, 2, 3}"
      ]
     },
     "execution_count": 29,
     "metadata": {},
     "output_type": "execute_result"
    }
   ],
   "source": [
    "a.difference(b)"
   ]
  },
  {
   "cell_type": "code",
   "execution_count": 30,
   "id": "cc125704-06eb-4ea1-810e-e7320c764f09",
   "metadata": {},
   "outputs": [
    {
     "data": {
      "text/plain": [
       "{6, 7, 8}"
      ]
     },
     "execution_count": 30,
     "metadata": {},
     "output_type": "execute_result"
    }
   ],
   "source": [
    "b.difference(a)"
   ]
  },
  {
   "cell_type": "code",
   "execution_count": 31,
   "id": "952840b4-243d-4a73-a44b-5e9a385876b3",
   "metadata": {},
   "outputs": [
    {
     "data": {
      "text/plain": [
       "{1, 2, 3}"
      ]
     },
     "execution_count": 31,
     "metadata": {},
     "output_type": "execute_result"
    }
   ],
   "source": [
    "a - b #difference"
   ]
  },
  {
   "cell_type": "code",
   "execution_count": 32,
   "id": "43ec88a8-68c0-474b-b57e-1dcb5bcadcd1",
   "metadata": {},
   "outputs": [
    {
     "data": {
      "text/plain": [
       "{6, 7, 8}"
      ]
     },
     "execution_count": 32,
     "metadata": {},
     "output_type": "execute_result"
    }
   ],
   "source": [
    "b - a"
   ]
  },
  {
   "cell_type": "code",
   "execution_count": 33,
   "id": "4d852688-adcd-4652-a7e2-6f8ea70e5086",
   "metadata": {},
   "outputs": [
    {
     "name": "stdout",
     "output_type": "stream",
     "text": [
      "\n",
      " {1, 2, 3, 4, 5} \n",
      " {4, 5, 6, 7, 8} \n",
      " {8, 9, 10}\n",
      "\n",
      " difference_update {4, 5, 6, 7}\n"
     ]
    }
   ],
   "source": [
    "#difference_update\n",
    "print( '\\n',a,'\\n',b,'\\n',c)\n",
    "b.difference_update(c)\n",
    "print(\"\\n difference_update\", b)"
   ]
  },
  {
   "cell_type": "code",
   "execution_count": 34,
   "id": "da9db403-9215-46ad-8a68-2e7073e8f4fe",
   "metadata": {},
   "outputs": [
    {
     "name": "stdout",
     "output_type": "stream",
     "text": [
      "\n",
      " {1, 2, 3, 4, 5} \n",
      " {4, 5, 6, 7} \n",
      " {8, 9, 10}\n"
     ]
    }
   ],
   "source": [
    "print('\\n',a,'\\n',b,'\\n',c)"
   ]
  },
  {
   "cell_type": "code",
   "execution_count": 35,
   "id": "1c7b2b3f-7301-4da7-9787-7ef1cf4e2845",
   "metadata": {},
   "outputs": [
    {
     "data": {
      "text/plain": [
       "{1, 2, 3, 6, 7}"
      ]
     },
     "execution_count": 35,
     "metadata": {},
     "output_type": "execute_result"
    }
   ],
   "source": [
    "a.symmetric_difference(b)"
   ]
  },
  {
   "cell_type": "code",
   "execution_count": 36,
   "id": "c2136fd8-127a-4c0c-82fa-45a36756c1b4",
   "metadata": {},
   "outputs": [
    {
     "data": {
      "text/plain": [
       "{1, 2, 3, 6, 7}"
      ]
     },
     "execution_count": 36,
     "metadata": {},
     "output_type": "execute_result"
    }
   ],
   "source": [
    "a^b #symmetric_difference"
   ]
  },
  {
   "cell_type": "code",
   "execution_count": 37,
   "id": "83e65b2c-58c6-4c02-82b6-6250aa14097a",
   "metadata": {},
   "outputs": [],
   "source": [
    "#Superset, Subset, Disjoint\n",
    "set1 = {1, 2, 3, 4, 5, 6, 7, 8, 9}\n",
    "set2 = {3, 4, 5, 6, 7, 8}\n",
    "set3 = {10, 20, 30, 40}"
   ]
  },
  {
   "cell_type": "code",
   "execution_count": 38,
   "id": "c9855eb8-15c1-4af4-afd1-50af7e6e74d2",
   "metadata": {},
   "outputs": [
    {
     "data": {
      "text/plain": [
       "True"
      ]
     },
     "execution_count": 38,
     "metadata": {},
     "output_type": "execute_result"
    }
   ],
   "source": [
    "set1.issuperset(set2) #issuperset() - Returns True if all the elements of one set are present in another set"
   ]
  },
  {
   "cell_type": "code",
   "execution_count": 39,
   "id": "2f63d28f-dff3-47a8-bbaf-631dacc8e82a",
   "metadata": {},
   "outputs": [
    {
     "data": {
      "text/plain": [
       "False"
      ]
     },
     "execution_count": 39,
     "metadata": {},
     "output_type": "execute_result"
    }
   ],
   "source": [
    "set2.issuperset(set1)"
   ]
  },
  {
   "cell_type": "code",
   "execution_count": 40,
   "id": "5805fb44-b803-46a0-b20b-4fc842d3ced2",
   "metadata": {},
   "outputs": [
    {
     "data": {
      "text/plain": [
       "False"
      ]
     },
     "execution_count": 40,
     "metadata": {},
     "output_type": "execute_result"
    }
   ],
   "source": [
    "set1.issubset(set2) #issubset() - Returns true if a set contains all elemnts of another set."
   ]
  },
  {
   "cell_type": "code",
   "execution_count": 41,
   "id": "1fdb7d79-a084-4862-b79a-926c121cddb7",
   "metadata": {},
   "outputs": [
    {
     "data": {
      "text/plain": [
       "True"
      ]
     },
     "execution_count": 41,
     "metadata": {},
     "output_type": "execute_result"
    }
   ],
   "source": [
    "set2.issubset(set1)"
   ]
  },
  {
   "cell_type": "code",
   "execution_count": 42,
   "id": "ee2d294a-cc05-4b08-b581-6493afae6db9",
   "metadata": {},
   "outputs": [
    {
     "data": {
      "text/plain": [
       "False"
      ]
     },
     "execution_count": 42,
     "metadata": {},
     "output_type": "execute_result"
    }
   ],
   "source": [
    "set1.isdisjoint(set2) #isdisjoint() - Returns True if two sets have no elements in common"
   ]
  },
  {
   "cell_type": "code",
   "execution_count": 43,
   "id": "8a4ce740-cc8e-4c4b-adbe-ed904ff92888",
   "metadata": {},
   "outputs": [
    {
     "data": {
      "text/plain": [
       "True"
      ]
     },
     "execution_count": 43,
     "metadata": {},
     "output_type": "execute_result"
    }
   ],
   "source": [
    "set1.isdisjoint(set3)"
   ]
  },
  {
   "cell_type": "markdown",
   "id": "cbe017e1-7d80-45bb-95c4-dd15e73276ab",
   "metadata": {},
   "source": [
    "<b>Frozen Set:</b>frozenset exactly same as set but one criteria is immutable"
   ]
  },
  {
   "cell_type": "code",
   "execution_count": 44,
   "id": "7fd51b00-b779-42ac-9daf-1bbbd08d70aa",
   "metadata": {},
   "outputs": [
    {
     "data": {
      "text/plain": [
       "{10, 20, 30, 40, 70}"
      ]
     },
     "execution_count": 44,
     "metadata": {},
     "output_type": "execute_result"
    }
   ],
   "source": [
    "s3 = {10,20,30,40} \n",
    "s3.add(70)\n",
    "s3"
   ]
  },
  {
   "cell_type": "code",
   "execution_count": 45,
   "id": "0b812245-0095-4a91-848f-0fdb961364f5",
   "metadata": {},
   "outputs": [
    {
     "data": {
      "text/plain": [
       "{10, 20, 30, 40, 70, 'hello'}"
      ]
     },
     "execution_count": 45,
     "metadata": {},
     "output_type": "execute_result"
    }
   ],
   "source": [
    "s3.add('hello')\n",
    "s3"
   ]
  },
  {
   "cell_type": "code",
   "execution_count": 46,
   "id": "8f794315-71ec-425b-b2f7-f0b5a2b841ee",
   "metadata": {},
   "outputs": [
    {
     "data": {
      "text/plain": [
       "frozenset({10, 20, 30, 40, 70, 'hello'})"
      ]
     },
     "execution_count": 46,
     "metadata": {},
     "output_type": "execute_result"
    }
   ],
   "source": [
    "fs = frozenset(s3)\n",
    "fs"
   ]
  },
  {
   "cell_type": "code",
   "execution_count": 47,
   "id": "fd86757c-abe7-49bd-8aa3-08dd8745d0d5",
   "metadata": {},
   "outputs": [
    {
     "data": {
      "text/plain": [
       "frozenset"
      ]
     },
     "execution_count": 47,
     "metadata": {},
     "output_type": "execute_result"
    }
   ],
   "source": [
    "type(fs) "
   ]
  },
  {
   "cell_type": "code",
   "execution_count": 48,
   "id": "9252dfb2-77b6-48db-9a6e-901a1f556f7d",
   "metadata": {},
   "outputs": [
    {
     "ename": "AttributeError",
     "evalue": "'frozenset' object has no attribute 'add'",
     "output_type": "error",
     "traceback": [
      "\u001b[31m---------------------------------------------------------------------------\u001b[39m",
      "\u001b[31mAttributeError\u001b[39m                            Traceback (most recent call last)",
      "\u001b[36mCell\u001b[39m\u001b[36m \u001b[39m\u001b[32mIn[48]\u001b[39m\u001b[32m, line 1\u001b[39m\n\u001b[32m----> \u001b[39m\u001b[32m1\u001b[39m \u001b[43mfs\u001b[49m\u001b[43m.\u001b[49m\u001b[43madd\u001b[49m(\u001b[32m50\u001b[39m) \u001b[38;5;66;03m#add, remove such type of concept are not applicable in frozenset\u001b[39;00m\n",
      "\u001b[31mAttributeError\u001b[39m: 'frozenset' object has no attribute 'add'"
     ]
    }
   ],
   "source": [
    "fs.add(50) #add, remove such type of concept are not applicable in frozenset"
   ]
  },
  {
   "cell_type": "code",
   "execution_count": null,
   "id": "44a2c2a7-fe42-4b8f-8a27-61de014d1319",
   "metadata": {},
   "outputs": [],
   "source": []
  }
 ],
 "metadata": {
  "kernelspec": {
   "display_name": "Python 3 (ipykernel)",
   "language": "python",
   "name": "python3"
  },
  "language_info": {
   "codemirror_mode": {
    "name": "ipython",
    "version": 3
   },
   "file_extension": ".py",
   "mimetype": "text/x-python",
   "name": "python",
   "nbconvert_exporter": "python",
   "pygments_lexer": "ipython3",
   "version": "3.13.5"
  }
 },
 "nbformat": 4,
 "nbformat_minor": 5
}
